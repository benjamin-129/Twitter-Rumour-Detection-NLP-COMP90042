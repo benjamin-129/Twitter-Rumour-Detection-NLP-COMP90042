{
 "cells": [
  {
   "cell_type": "code",
   "execution_count": 59,
   "metadata": {},
   "outputs": [
    {
     "name": "stderr",
     "output_type": "stream",
     "text": [
      "C:\\Users\\benja\\anaconda3\\lib\\site-packages\\ipykernel\\ipkernel.py:287: DeprecationWarning: `should_run_async` will not call `transform_cell` automatically in the future. Please pass the result to `transformed_cell` argument and any exception that happen during thetransform in `preprocessing_exc_tuple` in IPython 7.17 and above.\n",
      "  and should_run_async(code)\n"
     ]
    }
   ],
   "source": [
    "import json\n",
    "import matplotlib.pyplot as plt\n",
    "import pandas as pd\n",
    "import numpy as np\n",
    "from pandas import DataFrame\n",
    "import re\n",
    "import numpy as np\n",
    "import seaborn as sns\n",
    "import matplotlib.pyplot as plt"
   ]
  },
  {
   "cell_type": "code",
   "execution_count": 65,
   "metadata": {},
   "outputs": [
    {
     "name": "stderr",
     "output_type": "stream",
     "text": [
      "C:\\Users\\benja\\anaconda3\\lib\\site-packages\\ipykernel\\ipkernel.py:287: DeprecationWarning: `should_run_async` will not call `transform_cell` automatically in the future. Please pass the result to `transformed_cell` argument and any exception that happen during thetransform in `preprocessing_exc_tuple` in IPython 7.17 and above.\n",
      "  and should_run_async(code)\n"
     ]
    }
   ],
   "source": [
    "def box_plot(data, headers, title, y_labels=None):\n",
    "    fig, ax = plt.subplots()\n",
    "    fig.dpi = 100.0\n",
    "    ax.set_title(title)\n",
    "    ax.ticklabel_format(useOffset=False, style='plain')\n",
    "    ax.set_xticklabels(headers)\n",
    "    if y_labels is not None:\n",
    "        ax.set_yticklabels(y_labels)\n",
    "    ax.boxplot(data)"
   ]
  },
  {
   "cell_type": "code",
   "execution_count": 3,
   "metadata": {},
   "outputs": [],
   "source": [
    "# Import covid rumour predictions\n",
    "covid_df = pd.read_csv('covid_predictions_dataframe.csv')"
   ]
  },
  {
   "cell_type": "code",
   "execution_count": 4,
   "metadata": {},
   "outputs": [
    {
     "data": {
      "text/html": [
       "<div>\n",
       "<style scoped>\n",
       "    .dataframe tbody tr th:only-of-type {\n",
       "        vertical-align: middle;\n",
       "    }\n",
       "\n",
       "    .dataframe tbody tr th {\n",
       "        vertical-align: top;\n",
       "    }\n",
       "\n",
       "    .dataframe thead th {\n",
       "        text-align: right;\n",
       "    }\n",
       "</style>\n",
       "<table border=\"1\" class=\"dataframe\">\n",
       "  <thead>\n",
       "    <tr style=\"text-align: right;\">\n",
       "      <th></th>\n",
       "      <th>tweet_id</th>\n",
       "      <th>text</th>\n",
       "      <th>time</th>\n",
       "      <th>parent</th>\n",
       "      <th>follower_count</th>\n",
       "      <th>user_id</th>\n",
       "      <th>label</th>\n",
       "    </tr>\n",
       "  </thead>\n",
       "  <tbody>\n",
       "    <tr>\n",
       "      <th>0</th>\n",
       "      <td>1272262651100434433</td>\n",
       "      <td>According to the New York Times, Warner Bros. ...</td>\n",
       "      <td>Sun Jun 14 20:20:28 +0000 2020</td>\n",
       "      <td>NaN</td>\n",
       "      <td>26179</td>\n",
       "      <td>1011312260805996547</td>\n",
       "      <td>rumour</td>\n",
       "    </tr>\n",
       "    <tr>\n",
       "      <th>1</th>\n",
       "      <td>1287153210990395392</td>\n",
       "      <td>Hurricane Hanna has made landfall in Texas.\\n\\...</td>\n",
       "      <td>Sat Jul 25 22:30:14 +0000 2020</td>\n",
       "      <td>NaN</td>\n",
       "      <td>248090</td>\n",
       "      <td>44513878</td>\n",
       "      <td>non-rumour</td>\n",
       "    </tr>\n",
       "    <tr>\n",
       "      <th>2</th>\n",
       "      <td>1287191952115605505</td>\n",
       "      <td>@TexasTribune Guess what the cause of death is...</td>\n",
       "      <td>Sun Jul 26 01:04:10 +0000 2020</td>\n",
       "      <td>1.287153e+18</td>\n",
       "      <td>1</td>\n",
       "      <td>1266937699128217602</td>\n",
       "      <td>non-rumour</td>\n",
       "    </tr>\n",
       "    <tr>\n",
       "      <th>3</th>\n",
       "      <td>1266555444283179008</td>\n",
       "      <td>Monkeys on the loose in India with stolen coro...</td>\n",
       "      <td>Sat May 30 02:22:04 +0000 2020</td>\n",
       "      <td>NaN</td>\n",
       "      <td>3948552</td>\n",
       "      <td>1917731</td>\n",
       "      <td>rumour</td>\n",
       "    </tr>\n",
       "    <tr>\n",
       "      <th>4</th>\n",
       "      <td>1257715199655755779</td>\n",
       "      <td>Eastleigh and Swahili Arabs in Mombasa where c...</td>\n",
       "      <td>Tue May 05 16:54:05 +0000 2020</td>\n",
       "      <td>NaN</td>\n",
       "      <td>176217</td>\n",
       "      <td>4811676473</td>\n",
       "      <td>non-rumour</td>\n",
       "    </tr>\n",
       "  </tbody>\n",
       "</table>\n",
       "</div>"
      ],
      "text/plain": [
       "              tweet_id                                               text  \\\n",
       "0  1272262651100434433  According to the New York Times, Warner Bros. ...   \n",
       "1  1287153210990395392  Hurricane Hanna has made landfall in Texas.\\n\\...   \n",
       "2  1287191952115605505  @TexasTribune Guess what the cause of death is...   \n",
       "3  1266555444283179008  Monkeys on the loose in India with stolen coro...   \n",
       "4  1257715199655755779  Eastleigh and Swahili Arabs in Mombasa where c...   \n",
       "\n",
       "                             time        parent  follower_count  \\\n",
       "0  Sun Jun 14 20:20:28 +0000 2020           NaN           26179   \n",
       "1  Sat Jul 25 22:30:14 +0000 2020           NaN          248090   \n",
       "2  Sun Jul 26 01:04:10 +0000 2020  1.287153e+18               1   \n",
       "3  Sat May 30 02:22:04 +0000 2020           NaN         3948552   \n",
       "4  Tue May 05 16:54:05 +0000 2020           NaN          176217   \n",
       "\n",
       "               user_id       label  \n",
       "0  1011312260805996547      rumour  \n",
       "1             44513878  non-rumour  \n",
       "2  1266937699128217602  non-rumour  \n",
       "3              1917731      rumour  \n",
       "4           4811676473  non-rumour  "
      ]
     },
     "execution_count": 4,
     "metadata": {},
     "output_type": "execute_result"
    }
   ],
   "source": [
    "covid_df.head()"
   ]
  },
  {
   "cell_type": "code",
   "execution_count": 5,
   "metadata": {},
   "outputs": [],
   "source": [
    "# Split rumour and non rumour datasets\n",
    "rumour_covid = covid_df.loc[covid_df['label'] == 'rumour']\n",
    "non_rumour_covid = covid_df.loc[covid_df['label'] == 'non-rumour']"
   ]
  },
  {
   "cell_type": "markdown",
   "metadata": {},
   "source": [
    "## Topic Modelling using LDA"
   ]
  },
  {
   "cell_type": "code",
   "execution_count": null,
   "metadata": {},
   "outputs": [],
   "source": []
  },
  {
   "cell_type": "code",
   "execution_count": 6,
   "metadata": {},
   "outputs": [
    {
     "name": "stdout",
     "output_type": "stream",
     "text": [
      "(6414, 7)\n",
      "(248267, 7)\n"
     ]
    }
   ],
   "source": [
    "print(rumour_covid.shape)\n",
    "print(non_rumour_covid.shape)"
   ]
  },
  {
   "cell_type": "code",
   "execution_count": 7,
   "metadata": {},
   "outputs": [
    {
     "name": "stderr",
     "output_type": "stream",
     "text": [
      "<ipython-input-7-b03693e5fd88>:4: SettingWithCopyWarning: \n",
      "A value is trying to be set on a copy of a slice from a DataFrame.\n",
      "Try using .loc[row_indexer,col_indexer] = value instead\n",
      "\n",
      "See the caveats in the documentation: https://pandas.pydata.org/pandas-docs/stable/user_guide/indexing.html#returning-a-view-versus-a-copy\n",
      "  rumour_covid['text_processed'] = rumour_covid['text'].map(lambda x: re.sub('[,\\.!?]', '', x))\n",
      "<ipython-input-7-b03693e5fd88>:5: SettingWithCopyWarning: \n",
      "A value is trying to be set on a copy of a slice from a DataFrame.\n",
      "Try using .loc[row_indexer,col_indexer] = value instead\n",
      "\n",
      "See the caveats in the documentation: https://pandas.pydata.org/pandas-docs/stable/user_guide/indexing.html#returning-a-view-versus-a-copy\n",
      "  rumour_covid['text_processed'] = rumour_covid['text_processed'].map(lambda x: x.lower())\n",
      "<ipython-input-7-b03693e5fd88>:8: SettingWithCopyWarning: \n",
      "A value is trying to be set on a copy of a slice from a DataFrame.\n",
      "Try using .loc[row_indexer,col_indexer] = value instead\n",
      "\n",
      "See the caveats in the documentation: https://pandas.pydata.org/pandas-docs/stable/user_guide/indexing.html#returning-a-view-versus-a-copy\n",
      "  non_rumour_covid['text_processed'] = non_rumour_covid['text'].map(lambda x: re.sub('[,\\.!?]', '', x))\n",
      "<ipython-input-7-b03693e5fd88>:9: SettingWithCopyWarning: \n",
      "A value is trying to be set on a copy of a slice from a DataFrame.\n",
      "Try using .loc[row_indexer,col_indexer] = value instead\n",
      "\n",
      "See the caveats in the documentation: https://pandas.pydata.org/pandas-docs/stable/user_guide/indexing.html#returning-a-view-versus-a-copy\n",
      "  non_rumour_covid['text_processed'] = non_rumour_covid['text_processed'].map(lambda x: x.lower())\n"
     ]
    }
   ],
   "source": [
    "# Pre-processing data\n",
    "\n",
    "# Remove punct & convert to lowercase\n",
    "rumour_covid['text_processed'] = rumour_covid['text'].map(lambda x: re.sub('[,\\.!?]', '', x))\n",
    "rumour_covid['text_processed'] = rumour_covid['text_processed'].map(lambda x: x.lower())\n",
    "\n",
    "# Remove punct & convert to lowercase\n",
    "non_rumour_covid['text_processed'] = non_rumour_covid['text'].map(lambda x: re.sub('[,\\.!?]', '', x))\n",
    "non_rumour_covid['text_processed'] = non_rumour_covid['text_processed'].map(lambda x: x.lower())"
   ]
  },
  {
   "cell_type": "code",
   "execution_count": 8,
   "metadata": {},
   "outputs": [
    {
     "data": {
      "image/png": "[encoded data removed]",
      "text/plain": [
       "<PIL.Image.Image image mode=RGB size=400x200 at 0x1A32D017700>"
      ]
     },
     "execution_count": 8,
     "metadata": {},
     "output_type": "execute_result"
    }
   ],
   "source": [
    "from wordcloud import WordCloud\n",
    "\n",
    "# Join the different processed titles together.\n",
    "long_string = ','.join(list(rumour_covid['text_processed'].values))\n",
    "\n",
    "# Create a WordCloud object\n",
    "rumour_wordcloud = WordCloud(background_color=\"white\", max_words=1000, contour_width=3, contour_color='steelblue')\n",
    "\n",
    "# Generate a word cloud\n",
    "rumour_wordcloud.generate(long_string)\n",
    "\n",
    "# Visualize the word cloud\n",
    "rumour_wordcloud.to_image()"
   ]
  },
  {
   "cell_type": "code",
   "execution_count": 9,
   "metadata": {},
   "outputs": [
    {
     "data": {
      "image/png": "[encoded data removed]",
      "text/plain": [
       "<PIL.Image.Image image mode=RGB size=400x200 at 0x1A332724D90>"
      ]
     },
     "execution_count": 9,
     "metadata": {},
     "output_type": "execute_result"
    }
   ],
   "source": [
    "# Join the different processed titles together.\n",
    "x_long_string = ','.join(list(non_rumour_covid['text_processed'].values))\n",
    "\n",
    "# Create a WordCloud object\n",
    "non_rumour_wordcloud = WordCloud(background_color=\"white\", max_words=1000, contour_width=3, contour_color='steelblue')\n",
    "\n",
    "# Generate a word cloud\n",
    "non_rumour_wordcloud.generate(x_long_string)\n",
    "\n",
    "# Visualize the word cloud\n",
    "non_rumour_wordcloud.to_image()"
   ]
  },
  {
   "cell_type": "code",
   "execution_count": 10,
   "metadata": {},
   "outputs": [],
   "source": [
    "from nltk.tokenize import TweetTokenizer\n",
    "from nltk.corpus import stopwords\n",
    "import nltk\n",
    "from nltk.corpus import wordnet\n",
    "\n",
    "stop_words = stopwords.words('english')\n",
    "stop_words.extend(['https', '\\\\'])\n",
    "\n",
    "# rumour_data = rumour_covid.text_processed.values.tolist()\n",
    "# non_rumour_data = non_rumour_covid.text_processed.values.tolist()\n",
    "\n",
    "lemmatizer = nltk.stem.wordnet.WordNetLemmatizer()\n",
    "tokenizer = TweetTokenizer()\n",
    "\n",
    "def lemmatize(word):\n",
    "    lemma = lemmatizer.lemmatize(word,'v')\n",
    "    if lemma == word:\n",
    "        lemma = lemmatizer.lemmatize(word,'n')\n",
    "    return lemma\n",
    "\n",
    "def tokenize_text(data):\n",
    "    out = []\n",
    "    for tweet in data:\n",
    "        lemma_text = []\n",
    "        text = tokenizer.tokenize(tweet)\n",
    "        for word in text:\n",
    "            lemma = lemmatize(word)\n",
    "            if lemma not in stop_words:\n",
    "                lemma_text.append(lemma)\n",
    "        out.append(lemma_text)\n",
    "    return out\n",
    "\n",
    "def process_tokenize(df):\n",
    "    data = df.text_processed.values.tolist()\n",
    "    out = tokenize_text(data)\n",
    "    return out\n"
   ]
  },
  {
   "cell_type": "code",
   "execution_count": null,
   "metadata": {},
   "outputs": [],
   "source": []
  },
  {
   "cell_type": "code",
   "execution_count": 11,
   "metadata": {},
   "outputs": [
    {
     "name": "stderr",
     "output_type": "stream",
     "text": [
      "C:\\Users\\benja\\anaconda3\\lib\\site-packages\\gensim\\similarities\\__init__.py:15: UserWarning: The gensim.similarities.levenshtein submodule is disabled, because the optional Levenshtein package <https://pypi.org/project/python-Levenshtein/> is unavailable. Install Levenhstein (e.g. `pip install python-Levenshtein`) to suppress this warning.\n",
      "  warnings.warn(msg)\n",
      "C:\\Users\\benja\\anaconda3\\lib\\site-packages\\sklearn\\decomposition\\_lda.py:28: DeprecationWarning: `np.float` is a deprecated alias for the builtin `float`. To silence this warning, use `float` by itself. Doing this will not modify any behavior and is safe. If you specifically wanted the numpy scalar type, use `np.float64` here.\n",
      "Deprecated in NumPy 1.20; for more details and guidance: https://numpy.org/devdocs/release/1.20.0-notes.html#deprecations\n",
      "  EPS = np.finfo(np.float).eps\n"
     ]
    }
   ],
   "source": [
    "import gensim\n",
    "import gensim.corpora as corpora\n",
    "from pprint import pprint\n",
    "\n",
    "import pyLDAvis.gensim\n",
    "\n",
    "def topics(data):\n",
    "    id2word = corpora.Dictionary(data)\n",
    "    tokens = data\n",
    "    corpus = [id2word.doc2bow(token) for token in tokens]\n",
    "    \n",
    "    num_topics = 5\n",
    "    lda_model = gensim.models.LdaMulticore(corpus=corpus,\n",
    "                                       id2word=id2word,\n",
    "                                       num_topics=num_topics)\n",
    "    \n",
    "    # Print the Keywords in the 5 topics\n",
    "    \n",
    "    return lda_model.print_topics()\n",
    "\n",
    "   \n",
    "\n",
    "rumour_processed_data = process_tokenize(rumour_covid)\n",
    "non_rumour_processed_data = process_tokenize(non_rumour_covid)\n",
    "\n",
    "rumour_topics = topics(rumour_processed_data)\n",
    "non_rumour_topics = topics(non_rumour_processed_data)\n",
    "\n"
   ]
  },
  {
   "cell_type": "code",
   "execution_count": null,
   "metadata": {},
   "outputs": [],
   "source": []
  },
  {
   "cell_type": "code",
   "execution_count": 12,
   "metadata": {},
   "outputs": [
    {
     "name": "stdout",
     "output_type": "stream",
     "text": [
      "RUMOUR TOPICS\n",
      "[(0,\n",
      "  '0.027*\"covid\" + 0.024*\"19\" + 0.021*\"-\" + 0.014*\"death\" + 0.010*\"\"\" + '\n",
      "  '0.010*\"coronavirus\" + 0.010*\":\" + 0.009*\"report\" + 0.008*\")\" + 0.007*\"(\"'),\n",
      " (1,\n",
      "  '0.031*\"-\" + 0.026*\"covid\" + 0.026*\"19\" + 0.019*\"case\" + 0.016*\":\" + '\n",
      "  '0.015*\"death\" + 0.011*\"coronavirus\" + 0.009*\"test\" + 0.009*\"report\" + '\n",
      "  '0.009*\"new\"'),\n",
      " (2,\n",
      "  '0.024*\"19\" + 0.024*\"-\" + 0.023*\"covid\" + 0.019*\"death\" + '\n",
      "  '0.014*\"coronavirus\" + 0.010*\":\" + 0.010*\"die\" + 0.010*\"case\" + '\n",
      "  '0.007*\"confirm\" + 0.007*\"state\"'),\n",
      " (3,\n",
      "  '0.020*\"19\" + 0.020*\"covid\" + 0.017*\"death\" + 0.015*\"-\" + 0.012*\"case\" + '\n",
      "  '0.012*\"test\" + 0.011*\"#covid19\" + 0.010*\"coronavirus\" + 0.010*\"people\" + '\n",
      "  '0.009*\":\"'),\n",
      " (4,\n",
      "  '0.029*\"-\" + 0.022*\"coronavirus\" + 0.016*\"19\" + 0.015*\"covid\" + 0.014*\"test\" '\n",
      "  '+ 0.012*\"death\" + 0.010*\":\" + 0.008*\"case\" + 0.007*\"\"\" + 0.007*\"positive\"')]\n",
      "\n",
      "NON RUMOUR TOPICS\n",
      "[(0,\n",
      "  '0.023*\"@realdonaldtrump\" + 0.021*\"covid\" + 0.020*\"coronavirus\" + 0.020*\"19\" '\n",
      "  '+ 0.013*\"-\" + 0.011*\"people\" + 0.009*\"trump\" + 0.008*\"u\" + 0.008*\"death\" + '\n",
      "  '0.007*\"get\"'),\n",
      " (1,\n",
      "  '0.012*\"#covid19\" + 0.011*\"coronavirus\" + 0.011*\"test\" + 0.011*\"covid\" + '\n",
      "  '0.010*\"19\" + 0.010*\"\"\" + 0.010*\"-\" + 0.009*\"@realdonaldtrump\" + '\n",
      "  '0.009*\"mask\" + 0.009*\"#coronavirus\"'),\n",
      " (2,\n",
      "  '0.035*\"covid\" + 0.035*\"19\" + 0.032*\"-\" + 0.022*\"@realdonaldtrump\" + '\n",
      "  '0.017*\"’\" + 0.014*\"coronavirus\" + 0.010*\"people\" + 0.009*\"trump\" + '\n",
      "  '0.008*\"die\" + 0.008*\"american\"'),\n",
      " (3,\n",
      "  '0.022*\"’\" + 0.020*\"coronavirus\" + 0.013*\"#covid19\" + 0.012*\"\"\" + '\n",
      "  '0.012*\"@realdonaldtrump\" + 0.010*\"covid\" + 0.009*\"19\" + '\n",
      "  '0.009*\"#coronavirus\" + 0.008*\"“\" + 0.007*\"”\"'),\n",
      " (4,\n",
      "  '0.024*\"coronavirus\" + 0.016*\"@realdonaldtrump\" + 0.015*\"’\" + 0.014*\"covid\" '\n",
      "  '+ 0.014*\"19\" + 0.013*\"trump\" + 0.012*\"-\" + 0.011*\"death\" + 0.011*\"u\" + '\n",
      "  '0.010*\"&\"')]\n"
     ]
    },
    {
     "name": "stderr",
     "output_type": "stream",
     "text": [
      "C:\\Users\\benja\\anaconda3\\lib\\site-packages\\ipykernel\\ipkernel.py:287: DeprecationWarning: `should_run_async` will not call `transform_cell` automatically in the future. Please pass the result to `transformed_cell` argument and any exception that happen during thetransform in `preprocessing_exc_tuple` in IPython 7.17 and above.\n",
      "  and should_run_async(code)\n"
     ]
    }
   ],
   "source": [
    "print(\"RUMOUR TOPICS\")\n",
    "pprint(rumour_topics)\n",
    "print(\"\")\n",
    "print(\"NON RUMOUR TOPICS\")\n",
    "pprint(non_rumour_topics)"
   ]
  },
  {
   "cell_type": "code",
   "execution_count": null,
   "metadata": {},
   "outputs": [],
   "source": []
  },
  {
   "cell_type": "markdown",
   "metadata": {},
   "source": [
    "#### Analysis\n",
    "\n",
    "Rumour tweets: More death topics\n",
    "\n",
    "Non-rumour tweets are responses to @realdonaldtrump?"
   ]
  },
  {
   "cell_type": "code",
   "execution_count": 13,
   "metadata": {},
   "outputs": [
    {
     "name": "stderr",
     "output_type": "stream",
     "text": [
      "C:\\Users\\benja\\anaconda3\\lib\\site-packages\\ipykernel\\ipkernel.py:287: DeprecationWarning: `should_run_async` will not call `transform_cell` automatically in the future. Please pass the result to `transformed_cell` argument and any exception that happen during thetransform in `preprocessing_exc_tuple` in IPython 7.17 and above.\n",
      "  and should_run_async(code)\n"
     ]
    }
   ],
   "source": [
    "# import pyLDAvis.gensim_models\n",
    "# import pyLDAvis.gensim\n",
    "# import pickle \n",
    "# import pyLDAvis\n",
    "\n",
    "# # Visualize the topics\n",
    "# pyLDAvis.enable_notebook()\n",
    "\n",
    "# dash = pyLDAvis.gensim.prepare(rumour_lda_model, rumour_corpus, rumour_id2word)\n",
    "\n",
    "# dash\n",
    "\n",
    "# LDAvis_data_filepath = os.path.join('./results/ldavis_prepared_'+str(num_topics))\n",
    "\n",
    "# # # this is a bit time consuming - make the if statement True\n",
    "# # # if you want to execute visualization prep yourself\n",
    "# if 1 == 1:\n",
    "#     LDAvis_prepared = pyLDAvis.gensim.prepare(lda_model, corpus, id2word)\n",
    "#     with open(LDAvis_data_filepath, 'wb') as f:\n",
    "#         pickle.dump(LDAvis_prepared, f)\n",
    "\n",
    "# # load the pre-prepared pyLDAvis data from disk\n",
    "# with open(LDAvis_data_filepath, 'rb') as f:\n",
    "#     LDAvis_prepared = pickle.load(f)\n",
    "\n",
    "# pyLDAvis.save_html(LDAvis_prepared, './results/ldavis_prepared_'+ str(num_topics) +'.html')\n",
    "\n",
    "# LDAvis_prepared"
   ]
  },
  {
   "cell_type": "markdown",
   "metadata": {},
   "source": [
    "## Popular hashtags"
   ]
  },
  {
   "cell_type": "code",
   "execution_count": 14,
   "metadata": {},
   "outputs": [
    {
     "name": "stderr",
     "output_type": "stream",
     "text": [
      "C:\\Users\\benja\\anaconda3\\lib\\site-packages\\ipykernel\\ipkernel.py:287: DeprecationWarning: `should_run_async` will not call `transform_cell` automatically in the future. Please pass the result to `transformed_cell` argument and any exception that happen during thetransform in `preprocessing_exc_tuple` in IPython 7.17 and above.\n",
      "  and should_run_async(code)\n"
     ]
    }
   ],
   "source": [
    "from collections import Counter\n",
    "rumour_hash = Counter()\n",
    "non_rumour_hash = Counter()\n",
    "\n",
    "for line in rumour_processed_data:\n",
    "    for word in line:\n",
    "        if word[0] == '#':\n",
    "            rumour_hash[word] += 1\n",
    "            \n",
    "for line in non_rumour_processed_data:\n",
    "    for word in line:\n",
    "        if word[0] == '#':\n",
    "            non_rumour_hash[word] += 1\n",
    "# rumour_processed_data\n"
   ]
  },
  {
   "cell_type": "code",
   "execution_count": 15,
   "metadata": {},
   "outputs": [
    {
     "name": "stderr",
     "output_type": "stream",
     "text": [
      "C:\\Users\\benja\\anaconda3\\lib\\site-packages\\ipykernel\\ipkernel.py:287: DeprecationWarning: `should_run_async` will not call `transform_cell` automatically in the future. Please pass the result to `transformed_cell` argument and any exception that happen during thetransform in `preprocessing_exc_tuple` in IPython 7.17 and above.\n",
      "  and should_run_async(code)\n"
     ]
    },
    {
     "data": {
      "text/plain": [
       "[('#covid19', 985),\n",
       " ('#coronavirus', 375),\n",
       " ('#covid_19', 74),\n",
       " ('#covid_19india', 68),\n",
       " ('#', 55)]"
      ]
     },
     "execution_count": 15,
     "metadata": {},
     "output_type": "execute_result"
    }
   ],
   "source": [
    "rumour_hash.most_common(5)"
   ]
  },
  {
   "cell_type": "code",
   "execution_count": 16,
   "metadata": {},
   "outputs": [
    {
     "name": "stderr",
     "output_type": "stream",
     "text": [
      "C:\\Users\\benja\\anaconda3\\lib\\site-packages\\ipykernel\\ipkernel.py:287: DeprecationWarning: `should_run_async` will not call `transform_cell` automatically in the future. Please pass the result to `transformed_cell` argument and any exception that happen during thetransform in `preprocessing_exc_tuple` in IPython 7.17 and above.\n",
      "  and should_run_async(code)\n"
     ]
    },
    {
     "data": {
      "text/plain": [
       "[('#covid19', 32596),\n",
       " ('#coronavirus', 18441),\n",
       " ('#trump', 2551),\n",
       " ('#', 1611),\n",
       " ('#coronaviruspandemic', 1606)]"
      ]
     },
     "execution_count": 16,
     "metadata": {},
     "output_type": "execute_result"
    }
   ],
   "source": [
    "non_rumour_hash.most_common(5)"
   ]
  },
  {
   "cell_type": "code",
   "execution_count": 17,
   "metadata": {},
   "outputs": [
    {
     "name": "stderr",
     "output_type": "stream",
     "text": [
      "C:\\Users\\benja\\anaconda3\\lib\\site-packages\\ipykernel\\ipkernel.py:287: DeprecationWarning: `should_run_async` will not call `transform_cell` automatically in the future. Please pass the result to `transformed_cell` argument and any exception that happen during thetransform in `preprocessing_exc_tuple` in IPython 7.17 and above.\n",
      "  and should_run_async(code)\n"
     ]
    }
   ],
   "source": [
    "non_rumour_words = Counter()\n",
    "for line in non_rumour_processed_data:\n",
    "    for word in line:\n",
    "        non_rumour_words[word] += 1"
   ]
  },
  {
   "cell_type": "code",
   "execution_count": 18,
   "metadata": {},
   "outputs": [
    {
     "name": "stderr",
     "output_type": "stream",
     "text": [
      "C:\\Users\\benja\\anaconda3\\lib\\site-packages\\ipykernel\\ipkernel.py:287: DeprecationWarning: `should_run_async` will not call `transform_cell` automatically in the future. Please pass the result to `transformed_cell` argument and any exception that happen during thetransform in `preprocessing_exc_tuple` in IPython 7.17 and above.\n",
      "  and should_run_async(code)\n"
     ]
    },
    {
     "data": {
      "text/plain": [
       "[('covid', 99239),\n",
       " ('19', 97386),\n",
       " ('@realdonaldtrump', 85933),\n",
       " ('coronavirus', 84974),\n",
       " ('-', 81131)]"
      ]
     },
     "execution_count": 18,
     "metadata": {},
     "output_type": "execute_result"
    }
   ],
   "source": [
    "non_rumour_words.most_common(5)"
   ]
  },
  {
   "cell_type": "markdown",
   "metadata": {},
   "source": [
    "#### Analysis\n",
    "\n",
    "Similar hashtags. However, seems that hashtags that involve india are predicted as rumours and trump, non-rumours "
   ]
  },
  {
   "cell_type": "markdown",
   "metadata": {},
   "source": [
    "## Rumour Creating Users Characteristics"
   ]
  },
  {
   "cell_type": "code",
   "execution_count": 19,
   "metadata": {},
   "outputs": [
    {
     "name": "stderr",
     "output_type": "stream",
     "text": [
      "C:\\Users\\benja\\anaconda3\\lib\\site-packages\\ipykernel\\ipkernel.py:287: DeprecationWarning: `should_run_async` will not call `transform_cell` automatically in the future. Please pass the result to `transformed_cell` argument and any exception that happen during thetransform in `preprocessing_exc_tuple` in IPython 7.17 and above.\n",
      "  and should_run_async(code)\n"
     ]
    }
   ],
   "source": [
    "# rumour_covid"
   ]
  },
  {
   "cell_type": "code",
   "execution_count": 20,
   "metadata": {},
   "outputs": [
    {
     "name": "stderr",
     "output_type": "stream",
     "text": [
      "C:\\Users\\benja\\anaconda3\\lib\\site-packages\\ipykernel\\ipkernel.py:287: DeprecationWarning: `should_run_async` will not call `transform_cell` automatically in the future. Please pass the result to `transformed_cell` argument and any exception that happen during thetransform in `preprocessing_exc_tuple` in IPython 7.17 and above.\n",
      "  and should_run_async(code)\n"
     ]
    }
   ],
   "source": [
    "# Follower count Differences"
   ]
  },
  {
   "cell_type": "code",
   "execution_count": 21,
   "metadata": {},
   "outputs": [
    {
     "name": "stderr",
     "output_type": "stream",
     "text": [
      "C:\\Users\\benja\\anaconda3\\lib\\site-packages\\ipykernel\\ipkernel.py:287: DeprecationWarning: `should_run_async` will not call `transform_cell` automatically in the future. Please pass the result to `transformed_cell` argument and any exception that happen during thetransform in `preprocessing_exc_tuple` in IPython 7.17 and above.\n",
      "  and should_run_async(code)\n"
     ]
    }
   ],
   "source": [
    "rumour_follower_v = list(rumour_covid.follower_count.values)\n",
    "non_rumour_follower_v = list(non_rumour_covid.follower_count.values)"
   ]
  },
  {
   "cell_type": "code",
   "execution_count": 70,
   "metadata": {},
   "outputs": [
    {
     "name": "stdout",
     "output_type": "stream",
     "text": [
      "Rumour Mean Follower Count: 1065973.4212659807\n",
      "Rumour Median Follower Count: 938.5\n",
      "Non Rumour Mean Follower Count: 355464.1189203559\n",
      "Non Rumour Median Follower Count: 305.0\n"
     ]
    },
    {
     "name": "stderr",
     "output_type": "stream",
     "text": [
      "C:\\Users\\benja\\anaconda3\\lib\\site-packages\\ipykernel\\ipkernel.py:287: DeprecationWarning: `should_run_async` will not call `transform_cell` automatically in the future. Please pass the result to `transformed_cell` argument and any exception that happen during thetransform in `preprocessing_exc_tuple` in IPython 7.17 and above.\n",
      "  and should_run_async(code)\n"
     ]
    }
   ],
   "source": [
    "print(\"Rumour Mean Follower Count:\", np.mean(rumour_follower_v))\n",
    "print(\"Rumour Median Follower Count:\", np.median(rumour_follower_v))\n",
    "print(\"Non Rumour Mean Follower Count:\", np.mean(non_rumour_follower_v))\n",
    "print(\"Non Rumour Median Follower Count:\", np.median(non_rumour_follower_v))\n"
   ]
  },
  {
   "cell_type": "code",
   "execution_count": 71,
   "metadata": {},
   "outputs": [
    {
     "name": "stderr",
     "output_type": "stream",
     "text": [
      "C:\\Users\\benja\\anaconda3\\lib\\site-packages\\ipykernel\\ipkernel.py:287: DeprecationWarning: `should_run_async` will not call `transform_cell` automatically in the future. Please pass the result to `transformed_cell` argument and any exception that happen during thetransform in `preprocessing_exc_tuple` in IPython 7.17 and above.\n",
      "  and should_run_async(code)\n"
     ]
    },
    {
     "data": {
      "text/plain": [
       "123153277"
      ]
     },
     "execution_count": 71,
     "metadata": {},
     "output_type": "execute_result"
    }
   ],
   "source": [
    "max(non_rumour_follower_v)"
   ]
  },
  {
   "cell_type": "code",
   "execution_count": 72,
   "metadata": {},
   "outputs": [
    {
     "name": "stderr",
     "output_type": "stream",
     "text": [
      "C:\\Users\\benja\\anaconda3\\lib\\site-packages\\ipykernel\\ipkernel.py:287: DeprecationWarning: `should_run_async` will not call `transform_cell` automatically in the future. Please pass the result to `transformed_cell` argument and any exception that happen during thetransform in `preprocessing_exc_tuple` in IPython 7.17 and above.\n",
      "  and should_run_async(code)\n",
      "<ipython-input-65-5df693ce45d0>:6: UserWarning: FixedFormatter should only be used together with FixedLocator\n",
      "  ax.set_xticklabels(headers)\n"
     ]
    },
    {
     "data": {
      "image/png": "[encoded data removed]",
      "text/plain": [
       "<Figure size 600x400 with 1 Axes>"
      ]
     },
     "metadata": {
      "needs_background": "light"
     },
     "output_type": "display_data"
    }
   ],
   "source": [
    "follower_data = rumour_follower_v, non_rumour_follower_v\n",
    "\n",
    "follower_headers = ['Rumour', 'Non-Rumour']\n",
    "follower_title = 'Follower Count Distribution'\n",
    "\n",
    "box_plot(follower_data, follower_headers, follower_title)\n",
    "\n"
   ]
  },
  {
   "cell_type": "code",
   "execution_count": null,
   "metadata": {},
   "outputs": [],
   "source": []
  },
  {
   "cell_type": "code",
   "execution_count": null,
   "metadata": {},
   "outputs": [],
   "source": []
  },
  {
   "cell_type": "markdown",
   "metadata": {},
   "source": [
    "#### Analysis\n",
    "\n",
    "Rumour creating users are seen to have more followers vs non rumour creating accounts based on the predictions made by language model on tweets"
   ]
  },
  {
   "cell_type": "markdown",
   "metadata": {},
   "source": [
    "## Sentiment Intensity Analysis"
   ]
  },
  {
   "cell_type": "code",
   "execution_count": 25,
   "metadata": {},
   "outputs": [
    {
     "name": "stderr",
     "output_type": "stream",
     "text": [
      "C:\\Users\\benja\\anaconda3\\lib\\site-packages\\ipykernel\\ipkernel.py:287: DeprecationWarning: `should_run_async` will not call `transform_cell` automatically in the future. Please pass the result to `transformed_cell` argument and any exception that happen during thetransform in `preprocessing_exc_tuple` in IPython 7.17 and above.\n",
      "  and should_run_async(code)\n"
     ]
    }
   ],
   "source": [
    "from nltk.sentiment.vader import SentimentIntensityAnalyzer"
   ]
  },
  {
   "cell_type": "code",
   "execution_count": 26,
   "metadata": {},
   "outputs": [
    {
     "name": "stderr",
     "output_type": "stream",
     "text": [
      "C:\\Users\\benja\\anaconda3\\lib\\site-packages\\ipykernel\\ipkernel.py:287: DeprecationWarning: `should_run_async` will not call `transform_cell` automatically in the future. Please pass the result to `transformed_cell` argument and any exception that happen during thetransform in `preprocessing_exc_tuple` in IPython 7.17 and above.\n",
      "  and should_run_async(code)\n"
     ]
    }
   ],
   "source": [
    "# rumour_covid['text_processed'][0]"
   ]
  },
  {
   "cell_type": "code",
   "execution_count": 27,
   "metadata": {},
   "outputs": [
    {
     "name": "stderr",
     "output_type": "stream",
     "text": [
      "C:\\Users\\benja\\anaconda3\\lib\\site-packages\\ipykernel\\ipkernel.py:287: DeprecationWarning: `should_run_async` will not call `transform_cell` automatically in the future. Please pass the result to `transformed_cell` argument and any exception that happen during thetransform in `preprocessing_exc_tuple` in IPython 7.17 and above.\n",
      "  and should_run_async(code)\n"
     ]
    }
   ],
   "source": [
    "sid = SentimentIntensityAnalyzer()\n",
    "\n",
    "def get_sentiment_score(text_processed):\n",
    "    out = []\n",
    "    for line in text_processed:\n",
    "        score = sid.polarity_scores(line)\n",
    "        out.append(score['compound'])\n",
    "    return out\n",
    "\n",
    "def get_sentiment_score_ind(text):\n",
    "\n",
    "    return sid.polarity_scores(text)['compound']\n",
    "\n",
    "# nltk.download('vader_lexicon')\n"
   ]
  },
  {
   "cell_type": "markdown",
   "metadata": {},
   "source": [
    "#### All Tweets"
   ]
  },
  {
   "cell_type": "code",
   "execution_count": 28,
   "metadata": {},
   "outputs": [
    {
     "name": "stderr",
     "output_type": "stream",
     "text": [
      "C:\\Users\\benja\\anaconda3\\lib\\site-packages\\ipykernel\\ipkernel.py:287: DeprecationWarning: `should_run_async` will not call `transform_cell` automatically in the future. Please pass the result to `transformed_cell` argument and any exception that happen during thetransform in `preprocessing_exc_tuple` in IPython 7.17 and above.\n",
      "  and should_run_async(code)\n"
     ]
    }
   ],
   "source": [
    "# Sentiment of all tweets\n",
    "rumour_sentiment = get_sentiment_score(rumour_covid['text_processed'])\n",
    "non_rumour_sentiment = get_sentiment_score(non_rumour_covid['text_processed'])\n"
   ]
  },
  {
   "cell_type": "code",
   "execution_count": 29,
   "metadata": {},
   "outputs": [
    {
     "name": "stdout",
     "output_type": "stream",
     "text": [
      "Mean Rumour Sentiment: -0.15141100717181163\n",
      "Median Rumour Sentiment: -0.0516\n",
      "Mean Non Rumour Sentiment: -0.14302270619937407\n",
      "Median Non Rumour Sentiment: -0.0772\n"
     ]
    },
    {
     "name": "stderr",
     "output_type": "stream",
     "text": [
      "C:\\Users\\benja\\anaconda3\\lib\\site-packages\\ipykernel\\ipkernel.py:287: DeprecationWarning: `should_run_async` will not call `transform_cell` automatically in the future. Please pass the result to `transformed_cell` argument and any exception that happen during thetransform in `preprocessing_exc_tuple` in IPython 7.17 and above.\n",
      "  and should_run_async(code)\n"
     ]
    }
   ],
   "source": [
    "print('Mean Rumour Sentiment:', np.mean(rumour_sentiment))\n",
    "print('Median Rumour Sentiment:', np.median(rumour_sentiment))\n",
    "print('Mean Non Rumour Sentiment:', np.mean(non_rumour_sentiment))\n",
    "print('Median Non Rumour Sentiment:', np.median(non_rumour_sentiment))\n",
    "\n"
   ]
  },
  {
   "cell_type": "code",
   "execution_count": 30,
   "metadata": {},
   "outputs": [
    {
     "name": "stderr",
     "output_type": "stream",
     "text": [
      "C:\\Users\\benja\\anaconda3\\lib\\site-packages\\ipykernel\\ipkernel.py:287: DeprecationWarning: `should_run_async` will not call `transform_cell` automatically in the future. Please pass the result to `transformed_cell` argument and any exception that happen during thetransform in `preprocessing_exc_tuple` in IPython 7.17 and above.\n",
      "  and should_run_async(code)\n",
      "<ipython-input-2-01270e8b053a>:6: UserWarning: FixedFormatter should only be used together with FixedLocator\n",
      "  ax.set_xticklabels(headers)\n"
     ]
    },
    {
     "data": {
      "image/png": "[encoded data removed]",
      "text/plain": [
       "<Figure size 600x400 with 1 Axes>"
      ]
     },
     "metadata": {
      "needs_background": "light"
     },
     "output_type": "display_data"
    }
   ],
   "source": [
    "all_sent_data = rumour_sentiment, non_rumour_sentiment\n",
    "all_sent_headers = ['Rumour', 'Non-Rumour']\n",
    "all_sent_title = 'Tweet Sentiment Distribution'\n",
    "\n",
    "box_plot(all_sent_data, all_sent_headers, all_sent_title)"
   ]
  },
  {
   "cell_type": "markdown",
   "metadata": {},
   "source": [
    "#### Analysis:\n",
    "Tweet sentiment for rumour and non rumour tweets are similar. Both negative"
   ]
  },
  {
   "cell_type": "markdown",
   "metadata": {},
   "source": [
    "#### Parent and Child Tweets"
   ]
  },
  {
   "cell_type": "code",
   "execution_count": 31,
   "metadata": {},
   "outputs": [
    {
     "name": "stderr",
     "output_type": "stream",
     "text": [
      "C:\\Users\\benja\\anaconda3\\lib\\site-packages\\ipykernel\\ipkernel.py:287: DeprecationWarning: `should_run_async` will not call `transform_cell` automatically in the future. Please pass the result to `transformed_cell` argument and any exception that happen during thetransform in `preprocessing_exc_tuple` in IPython 7.17 and above.\n",
      "  and should_run_async(code)\n"
     ]
    }
   ],
   "source": [
    "# Sentiment of source tweets\n",
    "\n",
    "# Split rumour and non rumour datasets based on parent or replies\n",
    "parent_rumour_covid = rumour_covid.loc[rumour_covid['parent'].isnull()]\n",
    "child_rumour_covid = rumour_covid.loc[rumour_covid['parent'].notnull()]\n",
    "\n",
    "parent_non_rumour_covid = non_rumour_covid.loc[non_rumour_covid['parent'].isnull()]\n",
    "child_non_rumour_covid = non_rumour_covid.loc[non_rumour_covid['parent'].notnull()]\n",
    "\n",
    "\n"
   ]
  },
  {
   "cell_type": "code",
   "execution_count": 32,
   "metadata": {},
   "outputs": [
    {
     "name": "stderr",
     "output_type": "stream",
     "text": [
      "C:\\Users\\benja\\anaconda3\\lib\\site-packages\\ipykernel\\ipkernel.py:287: DeprecationWarning: `should_run_async` will not call `transform_cell` automatically in the future. Please pass the result to `transformed_cell` argument and any exception that happen during thetransform in `preprocessing_exc_tuple` in IPython 7.17 and above.\n",
      "  and should_run_async(code)\n"
     ]
    },
    {
     "name": "stdout",
     "output_type": "stream",
     "text": [
      "Rumours\n",
      "Mean Parent Rumour Sentiment: -0.02899872448979592\n",
      "Median Parent Rumour Sentiment: 0.0\n",
      "Mean Child Rumour Sentiment: -0.1910194387123401\n",
      "Median Child Rumour Sentiment: -0.17520000000000002\n"
     ]
    }
   ],
   "source": [
    "# Rumours\n",
    "\n",
    "parent_rumour_sentiment = get_sentiment_score(parent_rumour_covid['text_processed'])\n",
    "child_rumour_sentiment = get_sentiment_score(child_rumour_covid['text_processed'])\n",
    "\n",
    "print('Rumours')\n",
    "print('Mean Parent Rumour Sentiment:', np.mean(parent_rumour_sentiment))\n",
    "print('Median Parent Rumour Sentiment:', np.median(parent_rumour_sentiment))\n",
    "print('Mean Child Rumour Sentiment:', np.mean(child_rumour_sentiment))\n",
    "print('Median Child Rumour Sentiment:', np.median(child_rumour_sentiment))\n",
    "\n",
    "# print('Mean Non Rumour Sentiment:', np.mean(non_rumour_sentiment))\n",
    "# print('Median Non Rumour Sentiment:', np.median(non_rumour_sentiment))"
   ]
  },
  {
   "cell_type": "code",
   "execution_count": 33,
   "metadata": {},
   "outputs": [
    {
     "name": "stderr",
     "output_type": "stream",
     "text": [
      "C:\\Users\\benja\\anaconda3\\lib\\site-packages\\ipykernel\\ipkernel.py:287: DeprecationWarning: `should_run_async` will not call `transform_cell` automatically in the future. Please pass the result to `transformed_cell` argument and any exception that happen during thetransform in `preprocessing_exc_tuple` in IPython 7.17 and above.\n",
      "  and should_run_async(code)\n",
      "<ipython-input-2-01270e8b053a>:6: UserWarning: FixedFormatter should only be used together with FixedLocator\n",
      "  ax.set_xticklabels(headers)\n"
     ]
    },
    {
     "data": {
      "image/png": "[encoded data removed]",
      "text/plain": [
       "<Figure size 600x400 with 1 Axes>"
      ]
     },
     "metadata": {
      "needs_background": "light"
     },
     "output_type": "display_data"
    }
   ],
   "source": [
    "rumour_sent_data = parent_rumour_sentiment, child_rumour_sentiment\n",
    "rumour_sent_headers = ['Parent', 'Child']\n",
    "rumour_sent_title = 'Rumours: Parent-Child Sentiment Distribution'\n",
    "\n",
    "box_plot(rumour_sent_data, rumour_sent_headers, rumour_sent_title)"
   ]
  },
  {
   "cell_type": "code",
   "execution_count": 34,
   "metadata": {},
   "outputs": [
    {
     "name": "stderr",
     "output_type": "stream",
     "text": [
      "C:\\Users\\benja\\anaconda3\\lib\\site-packages\\ipykernel\\ipkernel.py:287: DeprecationWarning: `should_run_async` will not call `transform_cell` automatically in the future. Please pass the result to `transformed_cell` argument and any exception that happen during thetransform in `preprocessing_exc_tuple` in IPython 7.17 and above.\n",
      "  and should_run_async(code)\n"
     ]
    },
    {
     "name": "stdout",
     "output_type": "stream",
     "text": [
      "Non-rumours\n",
      "Mean Parent Non Rumour Sentiment: -0.02747912523599748\n",
      "Median Parent Non Rumour Sentiment: 0.0\n",
      "Mean Child Non Rumour Sentiment: -0.1509236064670772\n",
      "Median Child Non Rumour Sentiment: -0.1027\n"
     ]
    }
   ],
   "source": [
    "# Non Rumours\n",
    "\n",
    "parent_non_rumour_sentiment = get_sentiment_score(parent_non_rumour_covid['text_processed'])\n",
    "child_non_rumour_sentiment = get_sentiment_score(child_non_rumour_covid['text_processed'])\n",
    "\n",
    "print('Non-rumours')\n",
    "print('Mean Parent Non Rumour Sentiment:', np.mean(parent_non_rumour_sentiment))\n",
    "print('Median Parent Non Rumour Sentiment:', np.median(parent_non_rumour_sentiment))\n",
    "print('Mean Child Non Rumour Sentiment:', np.mean(child_non_rumour_sentiment))\n",
    "print('Median Child Non Rumour Sentiment:', np.median(child_non_rumour_sentiment))"
   ]
  },
  {
   "cell_type": "code",
   "execution_count": 35,
   "metadata": {},
   "outputs": [
    {
     "name": "stderr",
     "output_type": "stream",
     "text": [
      "C:\\Users\\benja\\anaconda3\\lib\\site-packages\\ipykernel\\ipkernel.py:287: DeprecationWarning: `should_run_async` will not call `transform_cell` automatically in the future. Please pass the result to `transformed_cell` argument and any exception that happen during thetransform in `preprocessing_exc_tuple` in IPython 7.17 and above.\n",
      "  and should_run_async(code)\n",
      "<ipython-input-2-01270e8b053a>:6: UserWarning: FixedFormatter should only be used together with FixedLocator\n",
      "  ax.set_xticklabels(headers)\n"
     ]
    },
    {
     "data": {
      "image/png": "[encoded data removed]",
      "text/plain": [
       "<Figure size 600x400 with 1 Axes>"
      ]
     },
     "metadata": {
      "needs_background": "light"
     },
     "output_type": "display_data"
    }
   ],
   "source": [
    "non_rumour_sent_data = parent_non_rumour_sentiment, child_non_rumour_sentiment\n",
    "non_rumour_sent_headers = ['Parent', 'Child']\n",
    "non_rumour_sent_title = 'Non-Rumour: Parent-Child Sentiment Distribution'\n",
    "\n",
    "box_plot(non_rumour_sent_data, non_rumour_sent_headers, non_rumour_sent_title)"
   ]
  },
  {
   "cell_type": "markdown",
   "metadata": {},
   "source": [
    "##### Analysis\n",
    "\n",
    "In both rumour and non rumour tweets, parent tweets have less negative sentiment than child tweets"
   ]
  },
  {
   "cell_type": "code",
   "execution_count": 36,
   "metadata": {},
   "outputs": [
    {
     "name": "stderr",
     "output_type": "stream",
     "text": [
      "C:\\Users\\benja\\anaconda3\\lib\\site-packages\\ipykernel\\ipkernel.py:287: DeprecationWarning: `should_run_async` will not call `transform_cell` automatically in the future. Please pass the result to `transformed_cell` argument and any exception that happen during thetransform in `preprocessing_exc_tuple` in IPython 7.17 and above.\n",
      "  and should_run_async(code)\n"
     ]
    }
   ],
   "source": [
    "## Get max sent impact example?"
   ]
  },
  {
   "cell_type": "markdown",
   "metadata": {},
   "source": [
    "### Sentiment over time?"
   ]
  },
  {
   "cell_type": "code",
   "execution_count": 37,
   "metadata": {},
   "outputs": [
    {
     "name": "stderr",
     "output_type": "stream",
     "text": [
      "C:\\Users\\benja\\anaconda3\\lib\\site-packages\\ipykernel\\ipkernel.py:287: DeprecationWarning: `should_run_async` will not call `transform_cell` automatically in the future. Please pass the result to `transformed_cell` argument and any exception that happen during thetransform in `preprocessing_exc_tuple` in IPython 7.17 and above.\n",
      "  and should_run_async(code)\n"
     ]
    },
    {
     "data": {
      "text/plain": [
       "'Sat May 30 02:22:04 +0000 2020'"
      ]
     },
     "execution_count": 37,
     "metadata": {},
     "output_type": "execute_result"
    }
   ],
   "source": [
    "rumour_covid['time'][3]"
   ]
  },
  {
   "cell_type": "code",
   "execution_count": 38,
   "metadata": {},
   "outputs": [
    {
     "name": "stderr",
     "output_type": "stream",
     "text": [
      "C:\\Users\\benja\\anaconda3\\lib\\site-packages\\ipykernel\\ipkernel.py:287: DeprecationWarning: `should_run_async` will not call `transform_cell` automatically in the future. Please pass the result to `transformed_cell` argument and any exception that happen during thetransform in `preprocessing_exc_tuple` in IPython 7.17 and above.\n",
      "  and should_run_async(code)\n"
     ]
    },
    {
     "data": {
      "text/plain": [
       "datetime.datetime(2020, 6, 14, 20, 20, 28)"
      ]
     },
     "execution_count": 38,
     "metadata": {},
     "output_type": "execute_result"
    }
   ],
   "source": [
    "import time\n",
    "from time import strptime\n",
    "from datetime import datetime\n",
    "from time import mktime\n",
    "\n",
    "a = strptime('Sun Jun 14 20:20:28 +0000 2020', '%a %b %d %H:%M:%S %z %Y')\n",
    "b = strptime('Sat May 30 02:22:04 +0000 2020', '%a %b %d %H:%M:%S %z %Y')\n",
    "\n",
    "a > b\n",
    "\n",
    "dt = datetime.fromtimestamp(mktime(a))\n",
    "dt"
   ]
  },
  {
   "cell_type": "code",
   "execution_count": 39,
   "metadata": {},
   "outputs": [
    {
     "name": "stderr",
     "output_type": "stream",
     "text": [
      "C:\\Users\\benja\\anaconda3\\lib\\site-packages\\ipykernel\\ipkernel.py:287: DeprecationWarning: `should_run_async` will not call `transform_cell` automatically in the future. Please pass the result to `transformed_cell` argument and any exception that happen during thetransform in `preprocessing_exc_tuple` in IPython 7.17 and above.\n",
      "  and should_run_async(code)\n"
     ]
    }
   ],
   "source": [
    "rumour_time_df = rumour_covid.copy()\n",
    "non_rumour_time_df = non_rumour_covid.copy()"
   ]
  },
  {
   "cell_type": "code",
   "execution_count": 40,
   "metadata": {},
   "outputs": [
    {
     "name": "stderr",
     "output_type": "stream",
     "text": [
      "C:\\Users\\benja\\anaconda3\\lib\\site-packages\\ipykernel\\ipkernel.py:287: DeprecationWarning: `should_run_async` will not call `transform_cell` automatically in the future. Please pass the result to `transformed_cell` argument and any exception that happen during thetransform in `preprocessing_exc_tuple` in IPython 7.17 and above.\n",
      "  and should_run_async(code)\n"
     ]
    }
   ],
   "source": [
    "# time_df"
   ]
  },
  {
   "cell_type": "code",
   "execution_count": 41,
   "metadata": {},
   "outputs": [
    {
     "name": "stderr",
     "output_type": "stream",
     "text": [
      "C:\\Users\\benja\\anaconda3\\lib\\site-packages\\ipykernel\\ipkernel.py:287: DeprecationWarning: `should_run_async` will not call `transform_cell` automatically in the future. Please pass the result to `transformed_cell` argument and any exception that happen during thetransform in `preprocessing_exc_tuple` in IPython 7.17 and above.\n",
      "  and should_run_async(code)\n"
     ]
    }
   ],
   "source": [
    "def time_process(time_df):\n",
    "    \n",
    "    time_df['struct_time'] = time_df['time'].apply(lambda x: strptime(x, '%a %b %d %H:%M:%S %z %Y'))\n",
    "    time_df['datetime'] = time_df['struct_time'].apply(lambda x: datetime.fromtimestamp(mktime(x)))\n",
    "\n",
    "    # time_df = time_df.sort_values(by=['struct_time'])\n",
    "    time_df['sentiment'] = time_df['text'].apply(lambda x: get_sentiment_score_ind(x))\n",
    "    \n",
    "    return time_df"
   ]
  },
  {
   "cell_type": "code",
   "execution_count": 42,
   "metadata": {},
   "outputs": [
    {
     "name": "stderr",
     "output_type": "stream",
     "text": [
      "C:\\Users\\benja\\anaconda3\\lib\\site-packages\\ipykernel\\ipkernel.py:287: DeprecationWarning: `should_run_async` will not call `transform_cell` automatically in the future. Please pass the result to `transformed_cell` argument and any exception that happen during thetransform in `preprocessing_exc_tuple` in IPython 7.17 and above.\n",
      "  and should_run_async(code)\n"
     ]
    }
   ],
   "source": [
    "rumour_time_df = time_process(rumour_time_df)"
   ]
  },
  {
   "cell_type": "code",
   "execution_count": 43,
   "metadata": {},
   "outputs": [
    {
     "name": "stderr",
     "output_type": "stream",
     "text": [
      "C:\\Users\\benja\\anaconda3\\lib\\site-packages\\ipykernel\\ipkernel.py:287: DeprecationWarning: `should_run_async` will not call `transform_cell` automatically in the future. Please pass the result to `transformed_cell` argument and any exception that happen during thetransform in `preprocessing_exc_tuple` in IPython 7.17 and above.\n",
      "  and should_run_async(code)\n"
     ]
    }
   ],
   "source": [
    "non_rumour_time_df = time_process(non_rumour_time_df)"
   ]
  },
  {
   "cell_type": "code",
   "execution_count": 44,
   "metadata": {},
   "outputs": [
    {
     "name": "stderr",
     "output_type": "stream",
     "text": [
      "C:\\Users\\benja\\anaconda3\\lib\\site-packages\\ipykernel\\ipkernel.py:287: DeprecationWarning: `should_run_async` will not call `transform_cell` automatically in the future. Please pass the result to `transformed_cell` argument and any exception that happen during thetransform in `preprocessing_exc_tuple` in IPython 7.17 and above.\n",
      "  and should_run_async(code)\n"
     ]
    },
    {
     "data": {
      "text/plain": [
       "<seaborn.axisgrid.FacetGrid at 0x1a35bb4dd00>"
      ]
     },
     "execution_count": 44,
     "metadata": {},
     "output_type": "execute_result"
    },
    {
     "data": {
      "image/png": "[encoded data removed]",
      "text/plain": [
       "<Figure size 648x432 with 1 Axes>"
      ]
     },
     "metadata": {
      "needs_background": "light"
     },
     "output_type": "display_data"
    }
   ],
   "source": [
    "\n",
    "\n",
    "sns.displot(data=rumour_time_df[['datetime', 'sentiment']], x=\"datetime\", y=\"sentiment\", height=6, aspect=1.5).set(title='Rumour Tweets: Sentiment Over Time')\n",
    "\n",
    "# plt.show()"
   ]
  },
  {
   "cell_type": "code",
   "execution_count": 45,
   "metadata": {},
   "outputs": [
    {
     "name": "stderr",
     "output_type": "stream",
     "text": [
      "C:\\Users\\benja\\anaconda3\\lib\\site-packages\\ipykernel\\ipkernel.py:287: DeprecationWarning: `should_run_async` will not call `transform_cell` automatically in the future. Please pass the result to `transformed_cell` argument and any exception that happen during thetransform in `preprocessing_exc_tuple` in IPython 7.17 and above.\n",
      "  and should_run_async(code)\n"
     ]
    },
    {
     "data": {
      "text/plain": [
       "<seaborn.axisgrid.FacetGrid at 0x1a359eab400>"
      ]
     },
     "execution_count": 45,
     "metadata": {},
     "output_type": "execute_result"
    },
    {
     "data": {
      "image/png": "[encoded data removed]",
      "text/plain": [
       "<Figure size 648x432 with 1 Axes>"
      ]
     },
     "metadata": {
      "needs_background": "light"
     },
     "output_type": "display_data"
    }
   ],
   "source": [
    "sns.displot(data=non_rumour_time_df[['datetime', 'sentiment']], x=\"datetime\", y=\"sentiment\", height=6, aspect=1.5).set(title='Non-Rumour Tweets: Sentiment Over Time')"
   ]
  },
  {
   "cell_type": "markdown",
   "metadata": {},
   "source": [
    "#### Analysis\n",
    "\n",
    "No Clear change in sentiment distribution over time for both rumour and non rumour"
   ]
  },
  {
   "cell_type": "markdown",
   "metadata": {},
   "source": [
    "## Topics Over Time"
   ]
  },
  {
   "cell_type": "markdown",
   "metadata": {},
   "source": [
    "#### Rumour Tweets"
   ]
  },
  {
   "cell_type": "code",
   "execution_count": 46,
   "metadata": {},
   "outputs": [
    {
     "name": "stderr",
     "output_type": "stream",
     "text": [
      "C:\\Users\\benja\\anaconda3\\lib\\site-packages\\ipykernel\\ipkernel.py:287: DeprecationWarning: `should_run_async` will not call `transform_cell` automatically in the future. Please pass the result to `transformed_cell` argument and any exception that happen during thetransform in `preprocessing_exc_tuple` in IPython 7.17 and above.\n",
      "  and should_run_async(code)\n"
     ]
    }
   ],
   "source": [
    "# rumour_time_df[(rumour_time_df.datetime > '08:00') & (rumour_time_df.datetime < '20:00')]\n",
    "# rumour_time_df[(rumour_time_df.datetime.between_time('08:00', '12:00'))]\n",
    "\n",
    "rumour_time_df_1 = rumour_time_df[(rumour_time_df.datetime > \"2020-01\") & (rumour_time_df.datetime < \"2020-02\")]\n",
    "rumour_time_df_2 = rumour_time_df[(rumour_time_df.datetime > \"2020-02\") & (rumour_time_df.datetime < \"2020-03\")]\n",
    "rumour_time_df_3 = rumour_time_df[(rumour_time_df.datetime > \"2020-03\") & (rumour_time_df.datetime < \"2020-04\")]\n",
    "rumour_time_df_4 = rumour_time_df[(rumour_time_df.datetime > \"2020-04\") & (rumour_time_df.datetime < \"2020-05\")]\n",
    "rumour_time_df_5 = rumour_time_df[(rumour_time_df.datetime > \"2020-05\") & (rumour_time_df.datetime < \"2020-06\")]\n",
    "rumour_time_df_6 = rumour_time_df[(rumour_time_df.datetime > \"2020-06\") & (rumour_time_df.datetime < \"2020-07\")]\n",
    "rumour_time_df_7 = rumour_time_df[(rumour_time_df.datetime > \"2020-07\") & (rumour_time_df.datetime < \"2020-08\")]\n",
    "\n",
    "# df = df[(df['Date']> \"2018-01-01\""
   ]
  },
  {
   "cell_type": "code",
   "execution_count": 47,
   "metadata": {},
   "outputs": [
    {
     "name": "stderr",
     "output_type": "stream",
     "text": [
      "C:\\Users\\benja\\anaconda3\\lib\\site-packages\\ipykernel\\ipkernel.py:287: DeprecationWarning: `should_run_async` will not call `transform_cell` automatically in the future. Please pass the result to `transformed_cell` argument and any exception that happen during thetransform in `preprocessing_exc_tuple` in IPython 7.17 and above.\n",
      "  and should_run_async(code)\n"
     ]
    }
   ],
   "source": [
    "rumour_time_df_1_topics = topics(process_tokenize(rumour_time_df_1))\n",
    "rumour_time_df_2_topics = topics(process_tokenize(rumour_time_df_2))\n",
    "rumour_time_df_3_topics = topics(process_tokenize(rumour_time_df_3))\n",
    "rumour_time_df_4_topics = topics(process_tokenize(rumour_time_df_4))\n",
    "rumour_time_df_5_topics = topics(process_tokenize(rumour_time_df_5))\n",
    "rumour_time_df_6_topics = topics(process_tokenize(rumour_time_df_6))\n",
    "rumour_time_df_7_topics = topics(process_tokenize(rumour_time_df_7))\n"
   ]
  },
  {
   "cell_type": "code",
   "execution_count": 48,
   "metadata": {
    "scrolled": true
   },
   "outputs": [
    {
     "name": "stdout",
     "output_type": "stream",
     "text": [
      "2020-1\n",
      "[(0,\n",
      "  '0.024*\"coronavirus\" + 0.023*\":\" + 0.019*\"go\" + 0.016*\"wuhan\" + 0.016*\"’\" + '\n",
      "  '0.016*\"trump\" + 0.015*\"say\" + 0.014*\"\\u200d\" + 0.014*\"️\" + 0.014*\"🤦\"'),\n",
      " (1,\n",
      "  '0.033*\"coronavirus\" + 0.033*\"case\" + 0.032*\"confirm\" + 0.025*\"\"\" + '\n",
      "  '0.025*\":\" + 0.015*\"philippine\" + 0.013*\"china\" + 0.013*\"-\" + 0.012*\"trump\" '\n",
      "  '+ 0.012*\"first\"'),\n",
      " (2,\n",
      "  '0.013*\"go\" + 0.012*\"madrid\" + 0.012*\"atlético\" + 0.012*\"#atleti\" + '\n",
      "  '0.012*\"#transfers\" + 0.012*\"comeback\" + 0.012*\"carrasco\" + 0.012*\"belgian\" '\n",
      "  '+ 0.012*\"🇪\" + 0.012*\"🇧\"'),\n",
      " (3,\n",
      "  '0.038*\"coronavirus\" + 0.019*\"chinese\" + 0.018*\"pneumonia\" + 0.015*\"awful\" + '\n",
      "  '0.015*\"symptom\" + 0.012*\"cause\" + 0.011*\"china\" + 0.010*\"case\" + '\n",
      "  '0.010*\"agent\" + 0.010*\"confirm\"'),\n",
      " (4,\n",
      "  '0.019*\"confirm\" + 0.018*\"year\" + 0.016*\"wuhan\" + 0.014*\"#coronavirus\" + '\n",
      "  '0.012*\"case\" + 0.012*\"china\" + 0.011*\"go\" + 0.011*\"death\" + 0.010*\"deal\" + '\n",
      "  '0.010*\"uk\"')]\n",
      "2020-2\n",
      "[(0,\n",
      "  '0.013*\"coronavirus\" + 0.011*\"cdc\" + 0.010*\"@realdonaldtrump\" + 0.009*\":\" + '\n",
      "  '0.009*\"\"\" + 0.008*\"case\" + 0.008*\"#coronavirus\" + 0.006*\"say\" + '\n",
      "  '0.006*\"test\" + 0.006*\"u\"'),\n",
      " (1,\n",
      "  '0.031*\"coronavirus\" + 0.011*\"@realdonaldtrump\" + 0.010*\"case\" + 0.010*\"19\" '\n",
      "  '+ 0.009*\"u\" + 0.009*\"virus\" + 0.009*\"test\" + 0.009*\"-\" + 0.008*\"covid\" + '\n",
      "  '0.007*\"’\"'),\n",
      " (2,\n",
      "  '0.030*\"coronavirus\" + 0.010*\":\" + 0.008*\"wuhan\" + 0.008*\"case\" + '\n",
      "  '0.007*\"death\" + 0.007*\"patient\" + 0.006*\"test\" + 0.006*\"u\" + 0.006*\"toll\" + '\n",
      "  '0.006*\"infect\"'),\n",
      " (3,\n",
      "  '0.024*\"coronavirus\" + 0.013*\"case\" + 0.011*\"people\" + 0.011*\"say\" + '\n",
      "  '0.010*\"\"\" + 0.010*\"report\" + 0.010*\"confirm\" + 0.009*\"@realdonaldtrump\" + '\n",
      "  '0.008*\"-\" + 0.008*\"%\"'),\n",
      " (4,\n",
      "  '0.015*\"coronavirus\" + 0.011*\"infect\" + 0.010*\"%\" + 0.008*\"fatality\" + '\n",
      "  '0.008*\"rate\" + 0.007*\"’\" + 0.007*\"-\" + 0.006*\"border\" + 0.006*\"wuhan\" + '\n",
      "  '0.005*\"$\"')]\n",
      "2020-3\n",
      "[(0,\n",
      "  '0.017*\"coronavirus\" + 0.013*\"-\" + 0.013*\"covid\" + 0.012*\"19\" + 0.011*\":\" + '\n",
      "  '0.010*\")\" + 0.010*\"(\" + 0.009*\"case\" + 0.008*\"test\" + 0.008*\"people\"'),\n",
      " (1,\n",
      "  '0.011*\"\"\" + 0.010*\"coronavirus\" + 0.010*\"19\" + 0.010*\"covid\" + '\n",
      "  '0.010*\"confirm\" + 0.009*\"-\" + 0.009*\"#coronavirus\" + 0.009*\"death\" + '\n",
      "  '0.008*\"#covid19\" + 0.008*\"test\"'),\n",
      " (2,\n",
      "  '0.014*\"test\" + 0.013*\"coronavirus\" + 0.012*\":\" + 0.011*\"-\" + 0.008*\"covid\" '\n",
      "  '+ 0.008*\"19\" + 0.007*\"case\" + 0.007*\"positive\" + 0.006*\"’\" + 0.006*\"%\"'),\n",
      " (3,\n",
      "  '0.026*\"-\" + 0.020*\"case\" + 0.019*\"19\" + 0.019*\"covid\" + 0.017*\"death\" + '\n",
      "  '0.017*\":\" + 0.016*\"coronavirus\" + 0.011*\"report\" + 0.010*\"new\" + 0.008*\"\"\"'),\n",
      " (4,\n",
      "  '0.021*\"coronavirus\" + 0.020*\"test\" + 0.015*\"19\" + 0.013*\"covid\" + 0.011*\"-\" '\n",
      "  '+ 0.011*\":\" + 0.008*\"’\" + 0.007*\"positive\" + 0.007*\"@realdonaldtrump\" + '\n",
      "  '0.006*\"break\"')]\n",
      "2020-4\n",
      "[(0,\n",
      "  '0.022*\"death\" + 0.021*\"-\" + 0.018*\"covid\" + 0.016*\"19\" + '\n",
      "  '0.015*\"coronavirus\" + 0.009*\"report\" + 0.008*\"case\" + 0.007*\"test\" + '\n",
      "  '0.007*\"hospital\" + 0.006*\"@realdonaldtrump\"'),\n",
      " (1,\n",
      "  '0.023*\"death\" + 0.021*\"-\" + 0.020*\"covid\" + 0.020*\"19\" + 0.017*\"test\" + '\n",
      "  '0.012*\"die\" + 0.010*\"coronavirus\" + 0.009*\"report\" + 0.009*\"people\" + '\n",
      "  '0.008*\"#covid19\"'),\n",
      " (2,\n",
      "  '0.018*\"-\" + 0.017*\"coronavirus\" + 0.011*\"death\" + 0.010*\"die\" + '\n",
      "  '0.010*\"covid\" + 0.010*\"19\" + 0.009*\"#covid19\" + 0.008*\"%\" + 0.007*\"case\" + '\n",
      "  '0.007*\":\"'),\n",
      " (3,\n",
      "  '0.040*\"-\" + 0.034*\"19\" + 0.033*\"covid\" + 0.012*\"death\" + 0.011*\"case\" + '\n",
      "  '0.010*\":\" + 0.007*\"coronavirus\" + 0.006*\"confirm\" + 0.006*\"test\" + '\n",
      "  '0.006*\"\"\"'),\n",
      " (4,\n",
      "  '0.019*\"coronavirus\" + 0.018*\":\" + 0.014*\"death\" + 0.010*\"-\" + 0.009*\"19\" + '\n",
      "  '0.009*\"confirm\" + 0.009*\"covid\" + 0.009*\"case\" + 0.008*\"#covid19\" + '\n",
      "  '0.007*\"\"\"')]\n",
      "2020-5\n",
      "[(0,\n",
      "  '0.027*\"-\" + 0.016*\"covid\" + 0.015*\"coronavirus\" + 0.015*\"case\" + 0.014*\"19\" '\n",
      "  '+ 0.012*\"death\" + 0.012*\"confirm\" + 0.009*\"new\" + 0.009*\":\" + 0.008*\"test\"'),\n",
      " (1,\n",
      "  '0.028*\"death\" + 0.028*\"covid\" + 0.027*\"19\" + 0.022*\":\" + 0.020*\"-\" + '\n",
      "  '0.012*\"coronavirus\" + 0.007*\"test\" + 0.006*\"u\" + 0.006*\"number\" + '\n",
      "  '0.006*\"@realdonaldtrump\"'),\n",
      " (2,\n",
      "  '0.023*\"covid\" + 0.022*\"19\" + 0.017*\"-\" + 0.015*\"case\" + 0.012*\"report\" + '\n",
      "  '0.010*\"coronavirus\" + 0.008*\")\" + 0.008*\":\" + 0.008*\"(\" + 0.008*\"death\"'),\n",
      " (3,\n",
      "  '0.034*\"-\" + 0.025*\"19\" + 0.024*\"covid\" + 0.018*\"death\" + 0.014*\"case\" + '\n",
      "  '0.013*\"report\" + 0.012*\":\" + 0.009*\"\"\" + 0.008*\"test\" + 0.008*\"die\"'),\n",
      " (4,\n",
      "  '0.020*\"-\" + 0.018*\"19\" + 0.017*\"covid\" + 0.015*\"death\" + 0.011*\"case\" + '\n",
      "  '0.011*\"coronavirus\" + 0.008*\"new\" + 0.008*\"die\" + 0.007*\":\" + '\n",
      "  '0.007*\"patient\"')]\n",
      "2020-6\n",
      "[(0,\n",
      "  '0.037*\"-\" + 0.034*\"covid\" + 0.034*\"19\" + 0.012*\"death\" + 0.010*\"#covid19\" + '\n",
      "  '0.010*\"test\" + 0.010*\"case\" + 0.009*\"positive\" + 0.008*\"people\" + '\n",
      "  '0.007*\"die\"'),\n",
      " (1,\n",
      "  '0.027*\"covid\" + 0.024*\"19\" + 0.018*\"-\" + 0.012*\"coronavirus\" + '\n",
      "  '0.010*\"death\" + 0.008*\"test\" + 0.008*\"people\" + 0.007*\"’\" + 0.007*\")\" + '\n",
      "  '0.006*\"one\"'),\n",
      " (2,\n",
      "  '0.029*\"19\" + 0.027*\"covid\" + 0.024*\"-\" + 0.015*\"case\" + 0.009*\"\"\" + '\n",
      "  '0.008*\"death\" + 0.008*\"coronavirus\" + 0.007*\"test\" + 0.007*\"u\" + '\n",
      "  '0.007*\"positive\"'),\n",
      " (3,\n",
      "  '0.022*\"death\" + 0.021*\"19\" + 0.021*\"covid\" + 0.020*\"case\" + 0.020*\":\" + '\n",
      "  '0.020*\"-\" + 0.011*\"coronavirus\" + 0.010*\"report\" + 0.009*\"confirm\" + '\n",
      "  '0.008*\"#covid19\"'),\n",
      " (4,\n",
      "  '0.023*\"-\" + 0.018*\"covid\" + 0.017*\"report\" + 0.017*\"19\" + 0.016*\"case\" + '\n",
      "  '0.014*\"test\" + 0.013*\"new\" + 0.013*\":\" + 0.012*\"coronavirus\" + '\n",
      "  '0.010*\"positive\"')]\n",
      "2020-7\n",
      "[(0,\n",
      "  '0.021*\"19\" + 0.018*\"covid\" + 0.017*\":\" + 0.017*\"-\" + 0.012*\"death\" + '\n",
      "  '0.011*\"\"\" + 0.008*\"coronavirus\" + 0.007*\")\" + 0.007*\"#covid19\" + 0.006*\"&\"'),\n",
      " (1,\n",
      "  '0.038*\"-\" + 0.029*\"19\" + 0.028*\"covid\" + 0.012*\"case\" + 0.009*\"coronavirus\" '\n",
      "  '+ 0.008*\"report\" + 0.007*\"death\" + 0.006*\"die\" + 0.006*\":\" + '\n",
      "  '0.006*\"number\"'),\n",
      " (2,\n",
      "  '0.031*\"covid\" + 0.029*\"-\" + 0.027*\"19\" + 0.016*\"death\" + 0.013*\"\"\" + '\n",
      "  '0.011*\"test\" + 0.010*\"%\" + 0.010*\"coronavirus\" + 0.009*\"die\" + '\n",
      "  '0.009*\"case\"'),\n",
      " (3,\n",
      "  '0.015*\":\" + 0.015*\"covid\" + 0.015*\"-\" + 0.014*\"coronavirus\" + 0.013*\"19\" + '\n",
      "  '0.012*\"death\" + 0.011*\"test\" + 0.009*\"case\" + 0.007*\"positive\" + '\n",
      "  '0.007*\"#covid19\"'),\n",
      " (4,\n",
      "  '0.029*\"covid\" + 0.026*\"19\" + 0.018*\"death\" + 0.018*\"-\" + '\n",
      "  '0.012*\"coronavirus\" + 0.011*\"case\" + 0.011*\"test\" + 0.011*\"report\" + '\n",
      "  '0.011*\"positive\" + 0.008*\":\"')]\n"
     ]
    },
    {
     "name": "stderr",
     "output_type": "stream",
     "text": [
      "C:\\Users\\benja\\anaconda3\\lib\\site-packages\\ipykernel\\ipkernel.py:287: DeprecationWarning: `should_run_async` will not call `transform_cell` automatically in the future. Please pass the result to `transformed_cell` argument and any exception that happen during thetransform in `preprocessing_exc_tuple` in IPython 7.17 and above.\n",
      "  and should_run_async(code)\n"
     ]
    }
   ],
   "source": [
    "print('2020-1')\n",
    "pprint(rumour_time_df_1_topics)\n",
    "print('2020-2')\n",
    "pprint(rumour_time_df_2_topics)\n",
    "print('2020-3')\n",
    "pprint(rumour_time_df_3_topics)\n",
    "print('2020-4')\n",
    "pprint(rumour_time_df_4_topics)\n",
    "print('2020-5')\n",
    "pprint(rumour_time_df_5_topics)\n",
    "print('2020-6')\n",
    "pprint(rumour_time_df_6_topics)\n",
    "print('2020-7')\n",
    "pprint(rumour_time_df_7_topics)\n"
   ]
  },
  {
   "cell_type": "markdown",
   "metadata": {},
   "source": []
  },
  {
   "cell_type": "code",
   "execution_count": 49,
   "metadata": {},
   "outputs": [
    {
     "name": "stderr",
     "output_type": "stream",
     "text": [
      "C:\\Users\\benja\\anaconda3\\lib\\site-packages\\ipykernel\\ipkernel.py:287: DeprecationWarning: `should_run_async` will not call `transform_cell` automatically in the future. Please pass the result to `transformed_cell` argument and any exception that happen during thetransform in `preprocessing_exc_tuple` in IPython 7.17 and above.\n",
      "  and should_run_async(code)\n"
     ]
    }
   ],
   "source": [
    "non_rumour_time_df_1 = non_rumour_time_df[(non_rumour_time_df.datetime > \"2020-01\") & (non_rumour_time_df.datetime < \"2020-02\")]\n",
    "non_rumour_time_df_2 = non_rumour_time_df[(non_rumour_time_df.datetime > \"2020-02\") & (non_rumour_time_df.datetime < \"2020-03\")]\n",
    "non_rumour_time_df_3 = non_rumour_time_df[(non_rumour_time_df.datetime > \"2020-03\") & (non_rumour_time_df.datetime < \"2020-04\")]\n",
    "non_rumour_time_df_4 = non_rumour_time_df[(non_rumour_time_df.datetime > \"2020-04\") & (non_rumour_time_df.datetime < \"2020-05\")]\n",
    "non_rumour_time_df_5 = non_rumour_time_df[(non_rumour_time_df.datetime > \"2020-05\") & (non_rumour_time_df.datetime < \"2020-06\")]\n",
    "non_rumour_time_df_6 = non_rumour_time_df[(non_rumour_time_df.datetime > \"2020-06\") & (non_rumour_time_df.datetime < \"2020-07\")]\n",
    "non_rumour_time_df_7 = non_rumour_time_df[(non_rumour_time_df.datetime > \"2020-07\") & (non_rumour_time_df.datetime < \"2020-08\")]\n",
    "\n",
    "non_rumour_time_df_1_topics = topics(process_tokenize(non_rumour_time_df_1))\n",
    "non_rumour_time_df_2_topics = topics(process_tokenize(non_rumour_time_df_2))\n",
    "non_rumour_time_df_3_topics = topics(process_tokenize(non_rumour_time_df_3))\n",
    "non_rumour_time_df_4_topics = topics(process_tokenize(non_rumour_time_df_4))\n",
    "non_rumour_time_df_5_topics = topics(process_tokenize(non_rumour_time_df_5))\n",
    "non_rumour_time_df_6_topics = topics(process_tokenize(non_rumour_time_df_6))\n",
    "non_rumour_time_df_7_topics = topics(process_tokenize(non_rumour_time_df_7))"
   ]
  },
  {
   "cell_type": "code",
   "execution_count": 50,
   "metadata": {
    "scrolled": true
   },
   "outputs": [
    {
     "name": "stdout",
     "output_type": "stream",
     "text": [
      "2020-1\n",
      "[(0,\n",
      "  '0.035*\"coronavirus\" + 0.022*\"’\" + 0.018*\"wuhan\" + 0.015*\"#coronavirus\" + '\n",
      "  '0.010*\"@realdonaldtrump\" + 0.010*\"go\" + 0.009*\"china\" + 0.008*\"\"\" + '\n",
      "  '0.008*\"people\" + 0.008*\"@politico\"'),\n",
      " (1,\n",
      "  '0.036*\"coronavirus\" + 0.019*\"wuhan\" + 0.015*\"@realdonaldtrump\" + '\n",
      "  '0.010*\"people\" + 0.010*\"’\" + 0.009*\"china\" + 0.009*\"flu\" + 0.008*\"virus\" + '\n",
      "  '0.008*\"%\" + 0.008*\"#coronavirus\"'),\n",
      " (2,\n",
      "  '0.027*\"coronavirus\" + 0.008*\"come\" + 0.008*\"china\" + 0.008*\"@who\" + '\n",
      "  '0.007*\"virus\" + 0.007*\":\" + 0.006*\"say\" + 0.006*\"wuhan\" + 0.005*\"would\" + '\n",
      "  '0.005*\")\"'),\n",
      " (3,\n",
      "  '0.029*\"coronavirus\" + 0.024*\"@realdonaldtrump\" + 0.020*\"wuhan\" + 0.013*\"’\" '\n",
      "  '+ 0.012*\"china\" + 0.010*\"go\" + 0.008*\"trump\" + 0.007*\"would\" + '\n",
      "  '0.007*\"change\" + 0.007*\"#coronavirus\"'),\n",
      " (4,\n",
      "  '0.022*\"coronavirus\" + 0.017*\"wuhan\" + 0.015*\"#coronavirus\" + '\n",
      "  '0.012*\"@realdonaldtrump\" + 0.012*\"china\" + 0.010*\"’\" + 0.009*\"@asapscience\" '\n",
      "  '+ 0.007*\"go\" + 0.006*\"-\" + 0.005*\"flu\"')]\n",
      "2020-2\n",
      "[(0,\n",
      "  '0.048*\"coronavirus\" + 0.029*\"@realdonaldtrump\" + 0.011*\"trump\" + 0.009*\"’\" '\n",
      "  '+ 0.009*\"#coronavirus\" + 0.008*\"u\" + 0.007*\"hoax\" + 0.006*\"say\" + '\n",
      "  '0.005*\"like\" + 0.005*\"people\"'),\n",
      " (1,\n",
      "  '0.050*\"coronavirus\" + 0.022*\"@realdonaldtrump\" + 0.020*\"’\" + 0.016*\"trump\" '\n",
      "  '+ 0.012*\"@preetbharara\" + 0.008*\"-\" + 0.008*\"election\" + 0.007*\"go\" + '\n",
      "  '0.006*\"people\" + 0.006*\"get\"'),\n",
      " (2,\n",
      "  '0.058*\"coronavirus\" + 0.029*\"@realdonaldtrump\" + 0.018*\"’\" + 0.012*\"\"\" + '\n",
      "  '0.011*\"trump\" + 0.011*\"get\" + 0.007*\"say\" + 0.007*\"people\" + 0.007*\"u\" + '\n",
      "  '0.006*\":\"'),\n",
      " (3,\n",
      "  '0.040*\"coronavirus\" + 0.020*\"@realdonaldtrump\" + 0.018*\"’\" + 0.015*\"trump\" '\n",
      "  '+ 0.010*\"people\" + 0.009*\"#coronavirus\" + 0.008*\"get\" + 0.008*\"\"\" + '\n",
      "  '0.007*\"go\" + 0.007*\"wuhan\"'),\n",
      " (4,\n",
      "  '0.025*\"coronavirus\" + 0.012*\"’\" + 0.011*\"#coronavirus\" + 0.011*\"19\" + '\n",
      "  '0.010*\"covid\" + 0.010*\"@realdonaldtrump\" + 0.010*\"-\" + 0.008*\"trump\" + '\n",
      "  '0.006*\"like\" + 0.005*\"china\"')]\n",
      "2020-3\n",
      "[(0,\n",
      "  '0.029*\"coronavirus\" + 0.014*\"@realdonaldtrump\" + 0.012*\"-\" + 0.012*\"\"\" + '\n",
      "  '0.009*\"covid\" + 0.008*\"19\" + 0.008*\"u\" + 0.008*\":\" + 0.007*\"get\" + '\n",
      "  '0.007*\"&\"'),\n",
      " (1,\n",
      "  '0.021*\"coronavirus\" + 0.019*\"@realdonaldtrump\" + 0.013*\"’\" + 0.009*\"trump\" '\n",
      "  '+ 0.009*\"#covid19\" + 0.008*\"19\" + 0.008*\"&\" + 0.008*\"covid\" + 0.007*\"virus\" '\n",
      "  '+ 0.007*\"\"\"'),\n",
      " (2,\n",
      "  '0.027*\"@realdonaldtrump\" + 0.025*\"’\" + 0.024*\"coronavirus\" + 0.012*\"-\" + '\n",
      "  '0.011*\"19\" + 0.011*\"covid\" + 0.010*\"get\" + 0.007*\"#coronavirus\" + '\n",
      "  '0.006*\"people\" + 0.006*\"pandemic\"'),\n",
      " (3,\n",
      "  '0.017*\"coronavirus\" + 0.015*\"@realdonaldtrump\" + 0.015*\"19\" + 0.014*\"trump\" '\n",
      "  '+ 0.014*\"covid\" + 0.014*\"-\" + 0.010*\"\"\" + 0.010*\"people\" + 0.010*\"’\" + '\n",
      "  '0.008*\"u\"'),\n",
      " (4,\n",
      "  '0.019*\"coronavirus\" + 0.018*\"@realdonaldtrump\" + 0.017*\"’\" + 0.015*\"covid\" '\n",
      "  '+ 0.014*\"19\" + 0.012*\"-\" + 0.010*\"people\" + 0.006*\"pandemic\" + 0.006*\"u\" + '\n",
      "  '0.006*\"#coronavirus\"')]\n",
      "2020-4\n",
      "[(0,\n",
      "  '0.021*\"covid\" + 0.021*\"@realdonaldtrump\" + 0.020*\"19\" + 0.016*\"\"\" + '\n",
      "  '0.014*\"coronavirus\" + 0.012*\"-\" + 0.009*\"trump\" + 0.008*\"#coronavirus\" + '\n",
      "  '0.006*\"#covid19\" + 0.006*\"u\"'),\n",
      " (1,\n",
      "  '0.027*\"’\" + 0.024*\"covid\" + 0.023*\"19\" + 0.018*\"coronavirus\" + 0.015*\"-\" + '\n",
      "  '0.009*\"@realdonaldtrump\" + 0.009*\"trump\" + 0.008*\"people\" + 0.007*\"say\" + '\n",
      "  '0.007*\"&\"'),\n",
      " (2,\n",
      "  '0.020*\"coronavirus\" + 0.017*\"@realdonaldtrump\" + 0.014*\"-\" + '\n",
      "  '0.011*\"#covid19\" + 0.010*\":\" + 0.009*\"covid\" + 0.009*\"19\" + 0.008*\"people\" '\n",
      "  '+ 0.008*\"’\" + 0.007*\"trump\"'),\n",
      " (3,\n",
      "  '0.020*\"@realdonaldtrump\" + 0.020*\"coronavirus\" + 0.012*\"trump\" + 0.011*\"19\" '\n",
      "  '+ 0.010*\"#covid19\" + 0.009*\"covid\" + 0.009*\"’\" + 0.007*\"people\" + 0.007*\"&\" '\n",
      "  '+ 0.007*\"u\"'),\n",
      " (4,\n",
      "  '0.027*\"19\" + 0.026*\"covid\" + 0.025*\"-\" + 0.017*\"@realdonaldtrump\" + '\n",
      "  '0.013*\"\"\" + 0.012*\"’\" + 0.011*\":\" + 0.008*\"death\" + 0.007*\"coronavirus\" + '\n",
      "  '0.006*\"&\"')]\n",
      "2020-5\n",
      "[(0,\n",
      "  '0.023*\"coronavirus\" + 0.013*\"@realdonaldtrump\" + 0.011*\"covid\" + '\n",
      "  '0.011*\"test\" + 0.011*\"19\" + 0.010*\"trump\" + 0.009*\"’\" + 0.009*\"\"\" + '\n",
      "  '0.009*\"say\" + 0.008*\"-\"'),\n",
      " (1,\n",
      "  '0.019*\"coronavirus\" + 0.019*\"\"\" + 0.017*\"@realdonaldtrump\" + 0.012*\"people\" '\n",
      "  '+ 0.010*\"covid\" + 0.010*\"19\" + 0.010*\"-\" + 0.008*\"trump\" + 0.005*\"china\" + '\n",
      "  '0.005*\"#coronavirus\"'),\n",
      " (2,\n",
      "  '0.030*\"19\" + 0.029*\"covid\" + 0.026*\"-\" + 0.015*\"@realdonaldtrump\" + '\n",
      "  '0.015*\"’\" + 0.011*\"death\" + 0.008*\"#covid19\" + 0.008*\"trump\" + 0.008*\"&\" + '\n",
      "  '0.008*\"go\"'),\n",
      " (3,\n",
      "  '0.036*\"covid\" + 0.034*\"19\" + 0.024*\"-\" + 0.018*\"@realdonaldtrump\" + '\n",
      "  '0.011*\"coronavirus\" + 0.010*\"’\" + 0.008*\":\" + 0.008*\"trump\" + 0.007*\"death\" '\n",
      "  '+ 0.006*\"&\"'),\n",
      " (4,\n",
      "  '0.021*\"’\" + 0.020*\"coronavirus\" + 0.017*\"@realdonaldtrump\" + 0.010*\":\" + '\n",
      "  '0.010*\"#covid19\" + 0.009*\"death\" + 0.009*\"19\" + 0.008*\"covid\" + 0.007*\"\"\" + '\n",
      "  '0.007*\"&\"')]\n",
      "2020-6\n",
      "[(0,\n",
      "  '0.020*\"’\" + 0.017*\"@realdonaldtrump\" + 0.016*\"coronavirus\" + '\n",
      "  '0.016*\"#covid19\" + 0.014*\"people\" + 0.013*\"covid\" + 0.012*\"19\" + 0.008*\"-\" '\n",
      "  '+ 0.006*\"&\" + 0.006*\"trump\"'),\n",
      " (1,\n",
      "  '0.027*\"19\" + 0.027*\"covid\" + 0.020*\"’\" + 0.020*\"-\" + '\n",
      "  '0.013*\"@realdonaldtrump\" + 0.009*\"people\" + 0.008*\"trump\" + '\n",
      "  '0.008*\"coronavirus\" + 0.007*\"death\" + 0.007*\"#covid19\"'),\n",
      " (2,\n",
      "  '0.020*\"coronavirus\" + 0.018*\"-\" + 0.014*\"\"\" + 0.013*\"covid\" + 0.013*\"19\" + '\n",
      "  '0.012*\":\" + 0.008*\"@realdonaldtrump\" + 0.008*\"people\" + 0.007*\"get\" + '\n",
      "  '0.007*\"#covid19\"'),\n",
      " (3,\n",
      "  '0.039*\"covid\" + 0.038*\"19\" + 0.030*\"-\" + 0.025*\"@realdonaldtrump\" + '\n",
      "  '0.012*\"coronavirus\" + 0.010*\"’\" + 0.008*\"trump\" + 0.007*\"american\" + '\n",
      "  '0.007*\"go\" + 0.007*\"u\"'),\n",
      " (4,\n",
      "  '0.022*\"coronavirus\" + 0.019*\"covid\" + 0.018*\"19\" + 0.017*\"@realdonaldtrump\" '\n",
      "  '+ 0.015*\"’\" + 0.014*\"-\" + 0.012*\"trump\" + 0.007*\"\"\" + 0.007*\"&\" + '\n",
      "  '0.007*\"death\"')]\n",
      "2020-7\n",
      "[(0,\n",
      "  '0.030*\"covid\" + 0.030*\"19\" + 0.027*\"-\" + 0.012*\"coronavirus\" + 0.012*\"’\" + '\n",
      "  '0.009*\"@realdonaldtrump\" + 0.008*\":\" + 0.008*\"go\" + 0.006*\"people\" + '\n",
      "  '0.006*\"\"\"'),\n",
      " (1,\n",
      "  '0.026*\"covid\" + 0.025*\"19\" + 0.020*\"-\" + 0.016*\"’\" + '\n",
      "  '0.012*\"@realdonaldtrump\" + 0.009*\"coronavirus\" + 0.009*\"trump\" + '\n",
      "  '0.008*\"people\" + 0.007*\"u\" + 0.006*\"case\"'),\n",
      " (2,\n",
      "  '0.027*\"covid\" + 0.026*\"19\" + 0.023*\"-\" + 0.022*\"@realdonaldtrump\" + '\n",
      "  '0.015*\"’\" + 0.015*\"coronavirus\" + 0.014*\"trump\" + 0.013*\"\"\" + 0.007*\"get\" + '\n",
      "  '0.007*\"american\"'),\n",
      " (3,\n",
      "  '0.026*\"@realdonaldtrump\" + 0.023*\"coronavirus\" + 0.015*\"covid\" + 0.014*\"19\" '\n",
      "  '+ 0.012*\"#covid19\" + 0.011*\"’\" + 0.010*\"die\" + 0.010*\"-\" + 0.010*\"trump\" + '\n",
      "  '0.008*\"&\"'),\n",
      " (4,\n",
      "  '0.013*\"covid\" + 0.013*\"coronavirus\" + 0.013*\"@realdonaldtrump\" + 0.012*\"19\" '\n",
      "  '+ 0.012*\"’\" + 0.011*\"death\" + 0.011*\"#covid19\" + 0.011*\":\" + 0.009*\"case\" + '\n",
      "  '0.009*\"-\"')]\n"
     ]
    },
    {
     "name": "stderr",
     "output_type": "stream",
     "text": [
      "C:\\Users\\benja\\anaconda3\\lib\\site-packages\\ipykernel\\ipkernel.py:287: DeprecationWarning: `should_run_async` will not call `transform_cell` automatically in the future. Please pass the result to `transformed_cell` argument and any exception that happen during thetransform in `preprocessing_exc_tuple` in IPython 7.17 and above.\n",
      "  and should_run_async(code)\n"
     ]
    }
   ],
   "source": [
    "print('2020-1')\n",
    "pprint(non_rumour_time_df_1_topics)\n",
    "print('2020-2')\n",
    "pprint(non_rumour_time_df_2_topics)\n",
    "print('2020-3')\n",
    "pprint(non_rumour_time_df_3_topics)\n",
    "print('2020-4')\n",
    "pprint(non_rumour_time_df_4_topics)\n",
    "print('2020-5')\n",
    "pprint(non_rumour_time_df_5_topics)\n",
    "print('2020-6')\n",
    "pprint(non_rumour_time_df_6_topics)\n",
    "print('2020-7')\n",
    "pprint(non_rumour_time_df_7_topics)"
   ]
  },
  {
   "cell_type": "markdown",
   "metadata": {},
   "source": [
    "#### Analysis:\n",
    "\n",
    "Rumour Tweets: 2020-01 and 2020-02 few references to death. 2020-03 onwards, alot of topics with death\n",
    "\n",
    "Non-rumour tweets: Similar, but less topics referring to death "
   ]
  },
  {
   "cell_type": "markdown",
   "metadata": {},
   "source": [
    "## Exploring Users who post the most tweets"
   ]
  },
  {
   "cell_type": "code",
   "execution_count": 51,
   "metadata": {},
   "outputs": [
    {
     "name": "stderr",
     "output_type": "stream",
     "text": [
      "C:\\Users\\benja\\anaconda3\\lib\\site-packages\\ipykernel\\ipkernel.py:287: DeprecationWarning: `should_run_async` will not call `transform_cell` automatically in the future. Please pass the result to `transformed_cell` argument and any exception that happen during thetransform in `preprocessing_exc_tuple` in IPython 7.17 and above.\n",
      "  and should_run_async(code)\n"
     ]
    },
    {
     "data": {
      "text/plain": [
       "1095663272089608192    77\n",
       "1228754267835707399    56\n",
       "759251                 34\n",
       "292558545              24\n",
       "1626294277             24\n",
       "                       ..\n",
       "893666125               1\n",
       "801253065684881408      1\n",
       "607531851               1\n",
       "258546506               1\n",
       "15527976                1\n",
       "Name: user_id, Length: 5116, dtype: int64"
      ]
     },
     "execution_count": 51,
     "metadata": {},
     "output_type": "execute_result"
    }
   ],
   "source": [
    "rumour_covid[\"user_id\"].value_counts()"
   ]
  },
  {
   "cell_type": "code",
   "execution_count": 52,
   "metadata": {},
   "outputs": [
    {
     "name": "stderr",
     "output_type": "stream",
     "text": [
      "C:\\Users\\benja\\anaconda3\\lib\\site-packages\\ipykernel\\ipkernel.py:287: DeprecationWarning: `should_run_async` will not call `transform_cell` automatically in the future. Please pass the result to `transformed_cell` argument and any exception that happen during thetransform in `preprocessing_exc_tuple` in IPython 7.17 and above.\n",
      "  and should_run_async(code)\n"
     ]
    }
   ],
   "source": [
    "asbtext = rumour_covid[(rumour_covid['user_id'] == 1095663272089608192) & (rumour_covid['tweet_id'] == 1272022343213125632)]['text']"
   ]
  },
  {
   "cell_type": "code",
   "execution_count": 53,
   "metadata": {},
   "outputs": [
    {
     "name": "stderr",
     "output_type": "stream",
     "text": [
      "C:\\Users\\benja\\anaconda3\\lib\\site-packages\\ipykernel\\ipkernel.py:287: DeprecationWarning: `should_run_async` will not call `transform_cell` automatically in the future. Please pass the result to `transformed_cell` argument and any exception that happen during thetransform in `preprocessing_exc_tuple` in IPython 7.17 and above.\n",
      "  and should_run_async(code)\n"
     ]
    },
    {
     "data": {
      "text/plain": [
       "0         According to the New York Times, Warner Bros. ...\n",
       "3         Monkeys on the loose in India with stolen coro...\n",
       "33        @HeidiNBC hong kong has had under 10 deaths ev...\n",
       "45        Major League Soccer COVID-19 Testing Update - ...\n",
       "80        @MattHancock 'High hopes' drug Remdesivir for ...\n",
       "                                ...                        \n",
       "254509    @thehill Tell every contact tracer that you go...\n",
       "254527    ⚠️Crazy: Houston hospital ICU data now deleted...\n",
       "254601    @NadineDorries @thetimes For goodness' sake, y...\n",
       "254605    @NadineDorries June 2nd, Matt Hancock told Par...\n",
       "254680    @seanhannity Breaking News: What Fox News won'...\n",
       "Name: text, Length: 6414, dtype: object"
      ]
     },
     "execution_count": 53,
     "metadata": {},
     "output_type": "execute_result"
    }
   ],
   "source": [
    "rumour_covid['text']"
   ]
  },
  {
   "cell_type": "code",
   "execution_count": 54,
   "metadata": {},
   "outputs": [
    {
     "name": "stderr",
     "output_type": "stream",
     "text": [
      "C:\\Users\\benja\\anaconda3\\lib\\site-packages\\ipykernel\\ipkernel.py:287: DeprecationWarning: `should_run_async` will not call `transform_cell` automatically in the future. Please pass the result to `transformed_cell` argument and any exception that happen during thetransform in `preprocessing_exc_tuple` in IPython 7.17 and above.\n",
      "  and should_run_async(code)\n"
     ]
    },
    {
     "data": {
      "text/plain": [
       "25496    Covid-19 (Novel Corona Virus) Updates for 14 June 2020: \\n\\nAll updates of the day will be listed below👇. \\n\\nFollow @TimesDemocracy for the fastest Corona virus updates. \\n\\n#Covid_19india #Covid_19 #CoronaUpdate #COVID19India\n",
       "Name: text, dtype: object"
      ]
     },
     "metadata": {},
     "output_type": "display_data"
    }
   ],
   "source": [
    "with pd.option_context('display.max_colwidth', None):\n",
    "  display(asbtext)"
   ]
  },
  {
   "cell_type": "code",
   "execution_count": 55,
   "metadata": {},
   "outputs": [
    {
     "name": "stderr",
     "output_type": "stream",
     "text": [
      "C:\\Users\\benja\\anaconda3\\lib\\site-packages\\ipykernel\\ipkernel.py:287: DeprecationWarning: `should_run_async` will not call `transform_cell` automatically in the future. Please pass the result to `transformed_cell` argument and any exception that happen during thetransform in `preprocessing_exc_tuple` in IPython 7.17 and above.\n",
      "  and should_run_async(code)\n"
     ]
    },
    {
     "data": {
      "text/plain": [
       "1084980649520496642    433\n",
       "3069279631             376\n",
       "25073877               309\n",
       "759251                 287\n",
       "1228754267835707399    211\n",
       "                      ... \n",
       "1163760109543145472      1\n",
       "2909737170               1\n",
       "1260436651991539714      1\n",
       "997830583601397760       1\n",
       "1076465848670474240      1\n",
       "Name: user_id, Length: 154015, dtype: int64"
      ]
     },
     "execution_count": 55,
     "metadata": {},
     "output_type": "execute_result"
    }
   ],
   "source": [
    "non_rumour_covid[\"user_id\"].value_counts()"
   ]
  },
  {
   "cell_type": "code",
   "execution_count": 56,
   "metadata": {},
   "outputs": [
    {
     "name": "stderr",
     "output_type": "stream",
     "text": [
      "C:\\Users\\benja\\anaconda3\\lib\\site-packages\\ipykernel\\ipkernel.py:287: DeprecationWarning: `should_run_async` will not call `transform_cell` automatically in the future. Please pass the result to `transformed_cell` argument and any exception that happen during thetransform in `preprocessing_exc_tuple` in IPython 7.17 and above.\n",
      "  and should_run_async(code)\n"
     ]
    },
    {
     "data": {
      "text/html": [
       "<div>\n",
       "<style scoped>\n",
       "    .dataframe tbody tr th:only-of-type {\n",
       "        vertical-align: middle;\n",
       "    }\n",
       "\n",
       "    .dataframe tbody tr th {\n",
       "        vertical-align: top;\n",
       "    }\n",
       "\n",
       "    .dataframe thead th {\n",
       "        text-align: right;\n",
       "    }\n",
       "</style>\n",
       "<table border=\"1\" class=\"dataframe\">\n",
       "  <thead>\n",
       "    <tr style=\"text-align: right;\">\n",
       "      <th></th>\n",
       "      <th>tweet_id</th>\n",
       "      <th>text</th>\n",
       "      <th>time</th>\n",
       "      <th>parent</th>\n",
       "      <th>follower_count</th>\n",
       "      <th>user_id</th>\n",
       "      <th>label</th>\n",
       "      <th>text_processed</th>\n",
       "    </tr>\n",
       "  </thead>\n",
       "  <tbody>\n",
       "    <tr>\n",
       "      <th>1430</th>\n",
       "      <td>1256065687623217156</td>\n",
       "      <td>@WhiteHouse @realDonaldTrump @GovMurphy No dou...</td>\n",
       "      <td>Fri May 01 03:39:31 +0000 2020</td>\n",
       "      <td>1.255894e+18</td>\n",
       "      <td>1323</td>\n",
       "      <td>1084980649520496642</td>\n",
       "      <td>non-rumour</td>\n",
       "      <td>@whitehouse @realdonaldtrump @govmurphy no dou...</td>\n",
       "    </tr>\n",
       "    <tr>\n",
       "      <th>1457</th>\n",
       "      <td>1256050513919070208</td>\n",
       "      <td>@WhiteHouse @realDonaldTrump @GovMurphy Pathol...</td>\n",
       "      <td>Fri May 01 02:39:13 +0000 2020</td>\n",
       "      <td>1.255894e+18</td>\n",
       "      <td>1323</td>\n",
       "      <td>1084980649520496642</td>\n",
       "      <td>non-rumour</td>\n",
       "      <td>@whitehouse @realdonaldtrump @govmurphy pathol...</td>\n",
       "    </tr>\n",
       "    <tr>\n",
       "      <th>2732</th>\n",
       "      <td>1268580654926749696</td>\n",
       "      <td>@realDonaldTrump Pathological liar, corrupt cr...</td>\n",
       "      <td>Thu Jun 04 16:29:31 +0000 2020</td>\n",
       "      <td>1.268498e+18</td>\n",
       "      <td>1328</td>\n",
       "      <td>1084980649520496642</td>\n",
       "      <td>non-rumour</td>\n",
       "      <td>@realdonaldtrump pathological liar corrupt cri...</td>\n",
       "    </tr>\n",
       "    <tr>\n",
       "      <th>2840</th>\n",
       "      <td>1268569932448628736</td>\n",
       "      <td>@realDonaldTrump Corruption, mass death, &amp;amp;...</td>\n",
       "      <td>Thu Jun 04 15:46:55 +0000 2020</td>\n",
       "      <td>1.268498e+18</td>\n",
       "      <td>1328</td>\n",
       "      <td>1084980649520496642</td>\n",
       "      <td>non-rumour</td>\n",
       "      <td>@realdonaldtrump corruption mass death &amp;amp; e...</td>\n",
       "    </tr>\n",
       "    <tr>\n",
       "      <th>3792</th>\n",
       "      <td>1277830438065713152</td>\n",
       "      <td>@GOPChairwoman @realDonaldTrump Corruption, ra...</td>\n",
       "      <td>Tue Jun 30 05:04:52 +0000 2020</td>\n",
       "      <td>1.277760e+18</td>\n",
       "      <td>1334</td>\n",
       "      <td>1084980649520496642</td>\n",
       "      <td>non-rumour</td>\n",
       "      <td>@gopchairwoman @realdonaldtrump corruption rac...</td>\n",
       "    </tr>\n",
       "    <tr>\n",
       "      <th>...</th>\n",
       "      <td>...</td>\n",
       "      <td>...</td>\n",
       "      <td>...</td>\n",
       "      <td>...</td>\n",
       "      <td>...</td>\n",
       "      <td>...</td>\n",
       "      <td>...</td>\n",
       "      <td>...</td>\n",
       "    </tr>\n",
       "    <tr>\n",
       "      <th>250145</th>\n",
       "      <td>1280336559426940929</td>\n",
       "      <td>@realDonaldTrump @seanhannity @FoxNews Corrupt...</td>\n",
       "      <td>Tue Jul 07 03:03:17 +0000 2020</td>\n",
       "      <td>1.280332e+18</td>\n",
       "      <td>1335</td>\n",
       "      <td>1084980649520496642</td>\n",
       "      <td>non-rumour</td>\n",
       "      <td>@realdonaldtrump @seanhannity @foxnews corrupt...</td>\n",
       "    </tr>\n",
       "    <tr>\n",
       "      <th>250152</th>\n",
       "      <td>1280391676410957826</td>\n",
       "      <td>@realDonaldTrump @seanhannity @FoxNews No surp...</td>\n",
       "      <td>Tue Jul 07 06:42:18 +0000 2020</td>\n",
       "      <td>1.280332e+18</td>\n",
       "      <td>1335</td>\n",
       "      <td>1084980649520496642</td>\n",
       "      <td>non-rumour</td>\n",
       "      <td>@realdonaldtrump @seanhannity @foxnews no surp...</td>\n",
       "    </tr>\n",
       "    <tr>\n",
       "      <th>252695</th>\n",
       "      <td>1249569688100765696</td>\n",
       "      <td>@realDonaldTrump Thank you. #DrFauci ... \\nPos...</td>\n",
       "      <td>Mon Apr 13 05:26:44 +0000 2020</td>\n",
       "      <td>1.249373e+18</td>\n",
       "      <td>1317</td>\n",
       "      <td>1084980649520496642</td>\n",
       "      <td>non-rumour</td>\n",
       "      <td>@realdonaldtrump thank you #drfauci  \\npos pat...</td>\n",
       "    </tr>\n",
       "    <tr>\n",
       "      <th>253575</th>\n",
       "      <td>1239176615717986305</td>\n",
       "      <td>@realDonaldTrump Lmao...this must be a joke or...</td>\n",
       "      <td>Sun Mar 15 13:08:22 +0000 2020</td>\n",
       "      <td>1.239006e+18</td>\n",
       "      <td>1312</td>\n",
       "      <td>1084980649520496642</td>\n",
       "      <td>non-rumour</td>\n",
       "      <td>@realdonaldtrump lmaothis must be a joke or so...</td>\n",
       "    </tr>\n",
       "    <tr>\n",
       "      <th>253726</th>\n",
       "      <td>1239178213919797253</td>\n",
       "      <td>@realDonaldTrump No doubt..the end of an Ameri...</td>\n",
       "      <td>Sun Mar 15 13:14:43 +0000 2020</td>\n",
       "      <td>1.239006e+18</td>\n",
       "      <td>1312</td>\n",
       "      <td>1084980649520496642</td>\n",
       "      <td>non-rumour</td>\n",
       "      <td>@realdonaldtrump no doubtthe end of an america...</td>\n",
       "    </tr>\n",
       "  </tbody>\n",
       "</table>\n",
       "<p>433 rows × 8 columns</p>\n",
       "</div>"
      ],
      "text/plain": [
       "                   tweet_id  \\\n",
       "1430    1256065687623217156   \n",
       "1457    1256050513919070208   \n",
       "2732    1268580654926749696   \n",
       "2840    1268569932448628736   \n",
       "3792    1277830438065713152   \n",
       "...                     ...   \n",
       "250145  1280336559426940929   \n",
       "250152  1280391676410957826   \n",
       "252695  1249569688100765696   \n",
       "253575  1239176615717986305   \n",
       "253726  1239178213919797253   \n",
       "\n",
       "                                                     text  \\\n",
       "1430    @WhiteHouse @realDonaldTrump @GovMurphy No dou...   \n",
       "1457    @WhiteHouse @realDonaldTrump @GovMurphy Pathol...   \n",
       "2732    @realDonaldTrump Pathological liar, corrupt cr...   \n",
       "2840    @realDonaldTrump Corruption, mass death, &amp;...   \n",
       "3792    @GOPChairwoman @realDonaldTrump Corruption, ra...   \n",
       "...                                                   ...   \n",
       "250145  @realDonaldTrump @seanhannity @FoxNews Corrupt...   \n",
       "250152  @realDonaldTrump @seanhannity @FoxNews No surp...   \n",
       "252695  @realDonaldTrump Thank you. #DrFauci ... \\nPos...   \n",
       "253575  @realDonaldTrump Lmao...this must be a joke or...   \n",
       "253726  @realDonaldTrump No doubt..the end of an Ameri...   \n",
       "\n",
       "                                  time        parent  follower_count  \\\n",
       "1430    Fri May 01 03:39:31 +0000 2020  1.255894e+18            1323   \n",
       "1457    Fri May 01 02:39:13 +0000 2020  1.255894e+18            1323   \n",
       "2732    Thu Jun 04 16:29:31 +0000 2020  1.268498e+18            1328   \n",
       "2840    Thu Jun 04 15:46:55 +0000 2020  1.268498e+18            1328   \n",
       "3792    Tue Jun 30 05:04:52 +0000 2020  1.277760e+18            1334   \n",
       "...                                ...           ...             ...   \n",
       "250145  Tue Jul 07 03:03:17 +0000 2020  1.280332e+18            1335   \n",
       "250152  Tue Jul 07 06:42:18 +0000 2020  1.280332e+18            1335   \n",
       "252695  Mon Apr 13 05:26:44 +0000 2020  1.249373e+18            1317   \n",
       "253575  Sun Mar 15 13:08:22 +0000 2020  1.239006e+18            1312   \n",
       "253726  Sun Mar 15 13:14:43 +0000 2020  1.239006e+18            1312   \n",
       "\n",
       "                    user_id       label  \\\n",
       "1430    1084980649520496642  non-rumour   \n",
       "1457    1084980649520496642  non-rumour   \n",
       "2732    1084980649520496642  non-rumour   \n",
       "2840    1084980649520496642  non-rumour   \n",
       "3792    1084980649520496642  non-rumour   \n",
       "...                     ...         ...   \n",
       "250145  1084980649520496642  non-rumour   \n",
       "250152  1084980649520496642  non-rumour   \n",
       "252695  1084980649520496642  non-rumour   \n",
       "253575  1084980649520496642  non-rumour   \n",
       "253726  1084980649520496642  non-rumour   \n",
       "\n",
       "                                           text_processed  \n",
       "1430    @whitehouse @realdonaldtrump @govmurphy no dou...  \n",
       "1457    @whitehouse @realdonaldtrump @govmurphy pathol...  \n",
       "2732    @realdonaldtrump pathological liar corrupt cri...  \n",
       "2840    @realdonaldtrump corruption mass death &amp; e...  \n",
       "3792    @gopchairwoman @realdonaldtrump corruption rac...  \n",
       "...                                                   ...  \n",
       "250145  @realdonaldtrump @seanhannity @foxnews corrupt...  \n",
       "250152  @realdonaldtrump @seanhannity @foxnews no surp...  \n",
       "252695  @realdonaldtrump thank you #drfauci  \\npos pat...  \n",
       "253575  @realdonaldtrump lmaothis must be a joke or so...  \n",
       "253726  @realdonaldtrump no doubtthe end of an america...  \n",
       "\n",
       "[433 rows x 8 columns]"
      ]
     },
     "execution_count": 56,
     "metadata": {},
     "output_type": "execute_result"
    }
   ],
   "source": [
    "non_rumour_covid[(non_rumour_covid['user_id'] == 1084980649520496642)]\n"
   ]
  },
  {
   "cell_type": "code",
   "execution_count": 57,
   "metadata": {},
   "outputs": [
    {
     "name": "stderr",
     "output_type": "stream",
     "text": [
      "C:\\Users\\benja\\anaconda3\\lib\\site-packages\\ipykernel\\ipkernel.py:287: DeprecationWarning: `should_run_async` will not call `transform_cell` automatically in the future. Please pass the result to `transformed_cell` argument and any exception that happen during thetransform in `preprocessing_exc_tuple` in IPython 7.17 and above.\n",
      "  and should_run_async(code)\n"
     ]
    },
    {
     "data": {
      "text/plain": [
       "1430    @WhiteHouse @realDonaldTrump @GovMurphy No doubt...\\n#TrumpIsANationalDisgrace \\n#TrumpIsSatan\\n#TrumpIsAPos\\n#TrumpIsA_DANGER_ToAmerica \\n#COVID19\\n#CoronavirusPandemic \\nhttps://t.co/PbVJicxDFk\n",
       "Name: text, dtype: object"
      ]
     },
     "metadata": {},
     "output_type": "display_data"
    }
   ],
   "source": [
    "with pd.option_context('display.max_colwidth', None):\n",
    "  display(non_rumour_covid[(non_rumour_covid['user_id'] == 1084980649520496642)& (non_rumour_covid['tweet_id'] == 1256065687623217156)]['text'])\n"
   ]
  },
  {
   "cell_type": "code",
   "execution_count": null,
   "metadata": {},
   "outputs": [],
   "source": []
  },
  {
   "cell_type": "code",
   "execution_count": null,
   "metadata": {},
   "outputs": [],
   "source": []
  },
  {
   "cell_type": "code",
   "execution_count": null,
   "metadata": {},
   "outputs": [],
   "source": []
  },
  {
   "cell_type": "code",
   "execution_count": null,
   "metadata": {},
   "outputs": [],
   "source": []
  },
  {
   "cell_type": "code",
   "execution_count": null,
   "metadata": {},
   "outputs": [],
   "source": []
  },
  {
   "cell_type": "code",
   "execution_count": null,
   "metadata": {},
   "outputs": [],
   "source": []
  },
  {
   "cell_type": "code",
   "execution_count": null,
   "metadata": {},
   "outputs": [],
   "source": []
  },
  {
   "cell_type": "code",
   "execution_count": null,
   "metadata": {},
   "outputs": [],
   "source": []
  },
  {
   "cell_type": "code",
   "execution_count": null,
   "metadata": {},
   "outputs": [],
   "source": []
  }
 ],
 "metadata": {
  "kernelspec": {
   "display_name": "Python 3",
   "language": "python",
   "name": "python3"
  },
  "language_info": {
   "codemirror_mode": {
    "name": "ipython",
    "version": 3
   },
   "file_extension": ".py",
   "mimetype": "text/x-python",
   "name": "python",
   "nbconvert_exporter": "python",
   "pygments_lexer": "ipython3",
   "version": "3.8.5"
  }
 },
 "nbformat": 4,
 "nbformat_minor": 4
}
