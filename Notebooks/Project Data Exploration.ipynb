{
 "cells": [
  {
   "cell_type": "code",
   "execution_count": 1,
   "metadata": {},
   "outputs": [],
   "source": [
    "import json\n",
    "import matplotlib.pyplot as plt\n",
    "import pandas as pd\n",
    "import numpy as np\n",
    "from pandas import DataFrame\n",
    "from sklearn.feature_extraction.text import CountVectorizer\n",
    "from sklearn.linear_model import LogisticRegression\n",
    "from sklearn.metrics import f1_score, precision_score, recall_score"
   ]
  },
  {
   "cell_type": "code",
   "execution_count": 2,
   "metadata": {},
   "outputs": [],
   "source": [
    "# Task 1\n",
    "# Training Data\n",
    "train_data_jsonl = open('train.data.jsonl', 'r')\n",
    "train_label = open('train.label.json', 'r')\n",
    "\n",
    "# Dev Data\n",
    "dev_data_jsonl = open('dev.data.jsonl', 'r')\n",
    "dev_label = open('dev.label.json', 'r')\n",
    "\n",
    "# Test Data\n",
    "test_data_jsonl = open('test.data.jsonl', 'r')\n",
    "\n",
    "\n",
    "# Task 2 Covid Data\n",
    "covid_data_jsonl = open('covid.data.jsonl', 'r')"
   ]
  },
  {
   "cell_type": "code",
   "execution_count": 3,
   "metadata": {},
   "outputs": [],
   "source": [
    "# Tweet ID (Key)\n",
    "# USer ID\n",
    "# Follower Count\n",
    "# Text\n",
    "# Time Posted\n",
    "# Parent Tweets ID (If Any)\n",
    "# Child tweets ID (If any)\n",
    "\n",
    "\n",
    "# Find BERT tokenize max size\n",
    "bert_token_list = []\n",
    "\n",
    "tweet_dict = {}\n",
    "\n",
    "train_label_json = json.load(train_label)\n",
    "dev_label_json = json.load(dev_label)\n",
    "\n",
    "\n",
    "# Make label 1 or 0\n",
    "# 0 for non-rumour\n",
    "def binary_label(label):\n",
    "    if label == 'non-rumour':\n",
    "        return 0\n",
    "    else:\n",
    "        return 1\n",
    "\n",
    "def jsonl_to_list(jsonl, labels):\n",
    "    out_list = []\n",
    "    responses_list = []\n",
    "    reply_list =[]\n",
    "    \n",
    "    for line in jsonl:\n",
    "        data = json.loads(line)\n",
    "        responses = 0\n",
    "\n",
    "        for tweet_data in data:\n",
    "            \n",
    "            tweet_id = tweet_data['id']\n",
    "            user_id = tweet_data['user']['id']\n",
    "            follower_count = tweet_data['user']['followers_count']\n",
    "            \n",
    "            \n",
    "            text = tweet_data['text']            \n",
    "            time = tweet_data['created_at']\n",
    "            parent = tweet_data['in_reply_to_status_id']\n",
    "\n",
    "\n",
    "            tweet_dict[tweet_id] = {'user_id' : user_id,\n",
    "                                   'follower_count' : follower_count,\n",
    "                                   'text' : text,\n",
    "                                   'time': time,\n",
    "                                   'parent': parent}\n",
    "            \n",
    "            \n",
    "            # get label and conver to 0 or 1\n",
    "            \n",
    "            try:\n",
    "                label = binary_label(labels[str(tweet_id)])\n",
    "                out_list.append([tweet_id, text, time, parent, label, follower_count, user_id])\n",
    "            except KeyError:\n",
    "                responses += 1\n",
    "                reply_list.append([tweet_id, text, time, parent, follower_count, user_id])\n",
    "                continue\n",
    "                \n",
    "        \n",
    "        responses_list.append(responses)\n",
    "    return out_list, responses_list, reply_list\n",
    "\n",
    "\n",
    "\n",
    "# test data\n",
    "def no_label_json(jsonl):\n",
    "    output = []\n",
    "    for line in jsonl:\n",
    "\n",
    "        data = json.loads(line)\n",
    "        \n",
    "        for tweet_data in data:\n",
    "\n",
    "            tweet_id = tweet_data['id']\n",
    "            user_id = tweet_data['user']['id']\n",
    "            follower_count = tweet_data['user']['followers_count']\n",
    "            text = tweet_data['text']\n",
    "            time = tweet_data['created_at']\n",
    "            parent = tweet_data['in_reply_to_status_id']\n",
    "\n",
    "\n",
    "            tweet_dict[tweet_id] = {'user_id' : user_id,\n",
    "                                   'follower_count' : follower_count,\n",
    "                                   'text' : text,\n",
    "                                   'time': time,\n",
    "                                   'parent': parent}\n",
    "\n",
    "            output.append([tweet_id, text, time, parent, follower_count, user_id])\n",
    "    return output\n",
    "    \n",
    "train_list, train_responses, train_reply = jsonl_to_list(train_data_jsonl, train_label_json)\n",
    "dev_list, dev_responses, dev_reply = jsonl_to_list(dev_data_jsonl, dev_label_json)\n",
    "\n",
    "\n",
    "\n",
    "test_list = no_label_json(test_data_jsonl)\n",
    "covid_list = no_label_json(covid_data_jsonl)"
   ]
  },
  {
   "cell_type": "code",
   "execution_count": 4,
   "metadata": {},
   "outputs": [],
   "source": [
    "# Make Dataframes\n",
    "\n",
    "train_df = DataFrame(train_list, columns=['tweet_id', 'text', 'time', 'parent', 'label', 'follower_count', 'user_id'])\n",
    "train_df['responses'] = np.asarray(train_responses)\n",
    "\n",
    "train_reply_df = DataFrame(train_reply, columns=['tweet_id', 'text', 'time', 'parent', 'follower_count', 'user_id'])\n",
    "\n",
    "\n",
    "dev_df = DataFrame(dev_list, columns=['tweet_id', 'text', 'time', 'parent', 'label', 'follower_count', 'user_id'])\n",
    "dev_df['responses'] = np.asarray(dev_responses)\n",
    "\n",
    "dev_reply_df = DataFrame(dev_reply, columns=['tweet_id', 'text', 'time', 'parent', 'follower_count', 'user_id'])\n",
    "\n",
    "test_df = DataFrame(test_list, columns=['tweet_id', 'text', 'time', 'parent', 'follower_count', 'user_id'])\n",
    "\n",
    "# Task 2\n",
    "covid_df = DataFrame(covid_list, columns=['tweet_id', 'text', 'time', 'parent', 'follower_count', 'user_id'])"
   ]
  },
  {
   "cell_type": "code",
   "execution_count": 5,
   "metadata": {},
   "outputs": [
    {
     "data": {
      "text/plain": [
       "0    @USATODAY :it's unfortunate that they got what...\n",
       "1    @USATODAY @azcentral That sucks. Think bigger ...\n",
       "2    “@USATODAY: #BREAKING Reports: 2 brothers susp...\n",
       "3    @USATODAY Got to kill the ones that were order...\n",
       "4                          @USATODAY two less to go...\n",
       "5    “@USATODAY: #BREAKING Reports: 2 brothers susp...\n",
       "6    “@USATODAY: #BREAKING Reports: 2 brothers susp...\n",
       "7    “@USATODAY: #BREAKING Reports: 2 brothers susp...\n",
       "8    “@USATODAY: #BREAKING Reports: 2 brothers susp...\n",
       "9    @USATODAY I gave in...heard from my favorite r...\n",
       "Name: text, dtype: object"
      ]
     },
     "execution_count": 5,
     "metadata": {},
     "output_type": "execute_result"
    }
   ],
   "source": [
    "dev_reply_df[dev_reply_df['parent'] == 553588913747808256]['text']"
   ]
  },
  {
   "cell_type": "code",
   "execution_count": 6,
   "metadata": {},
   "outputs": [],
   "source": [
    "from nltk.sentiment.vader import SentimentIntensityAnalyzer\n",
    "sid = SentimentIntensityAnalyzer()\n",
    "\n",
    "def get_sentiment_score(text_processed):\n",
    "    out = []\n",
    "    for line in text_processed:\n",
    "        score = sid.polarity_scores(line)\n",
    "        out.append(score['compound'])\n",
    "    return out\n",
    "\n",
    "def get_sentiment_score_ind(text):\n",
    "\n",
    "    return sid.polarity_scores(text)['compound']"
   ]
  },
  {
   "cell_type": "code",
   "execution_count": null,
   "metadata": {},
   "outputs": [],
   "source": []
  },
  {
   "cell_type": "code",
   "execution_count": 7,
   "metadata": {},
   "outputs": [],
   "source": [
    "def sent_dict(df):\n",
    "    parent_ids = list(df['parent'].unique())\n",
    "    sentiment_dict = {}\n",
    "    for parent in parent_ids:\n",
    "        replies = df[df['parent'] == parent]['text']\n",
    "\n",
    "        total_sent = []\n",
    "        for tweet in replies:\n",
    "            score = get_sentiment_score_ind(tweet)\n",
    "            total_sent.append(score)\n",
    "\n",
    "        mean = np.mean(total_sent)\n",
    "#         median = np.median(total_sent)\n",
    "        sentiment_dict[parent] = mean\n",
    "    return sentiment_dict"
   ]
  },
  {
   "cell_type": "code",
   "execution_count": null,
   "metadata": {},
   "outputs": [],
   "source": []
  },
  {
   "cell_type": "code",
   "execution_count": 8,
   "metadata": {},
   "outputs": [],
   "source": [
    "def senti_results(df, label, senti_dict):\n",
    "    out_list = []\n",
    "    for tw in list(df[df['label'] == label]['tweet_id']):\n",
    "        try:\n",
    "            out_list.append(senti_dict[tw])\n",
    "        except KeyError:\n",
    "            continue\n",
    "    return out_list\n",
    "\n",
    "train_senti_dict = sent_dict(train_reply_df) \n",
    "dev_senti_dict = sent_dict(dev_reply_df) \n",
    "\n",
    "train_rumour_reply_sent = senti_results(train_df, 1, train_senti_dict)\n",
    "train_nonrumour_reply_sent = senti_results(train_df, 0, train_senti_dict)\n",
    "dev_rumour_reply_sent = senti_results(dev_df, 1, dev_senti_dict)\n",
    "dev_nonrumour_reply_sent = senti_results(dev_df, 0, dev_senti_dict)\n",
    "\n",
    "\n"
   ]
  },
  {
   "cell_type": "code",
   "execution_count": 9,
   "metadata": {},
   "outputs": [
    {
     "name": "stdout",
     "output_type": "stream",
     "text": [
      "non rumour\n",
      "mean train\n",
      "-0.04394764530686936\n",
      "mean dev\n",
      "-0.025376817108749932\n",
      "median train\n",
      "-0.045571875\n",
      "median dev\n",
      "-0.02727027027027027\n",
      "Rumour\n",
      "mean train\n",
      "-0.11242684632512606\n",
      "mean dev\n",
      "-0.15116732147843262\n",
      "median train\n",
      "-0.09556111111111111\n",
      "median dev\n",
      "-0.1260526315789474\n"
     ]
    }
   ],
   "source": [
    "print('non rumour')\n",
    "print('mean train')\n",
    "print(np.mean(train_nonrumour_reply_sent))\n",
    "print('mean dev')\n",
    "print(np.mean(dev_nonrumour_reply_sent))\n",
    "print('median train')\n",
    "print(np.median(train_nonrumour_reply_sent))\n",
    "print('median dev')\n",
    "print(np.median(dev_nonrumour_reply_sent))\n",
    "\n",
    "print('Rumour')\n",
    "print('mean train')\n",
    "print(np.mean(train_rumour_reply_sent))\n",
    "print('mean dev')\n",
    "print(np.mean(dev_rumour_reply_sent))\n",
    "print('median train')\n",
    "print(np.median(train_rumour_reply_sent))\n",
    "print('median dev')\n",
    "print(np.median(dev_rumour_reply_sent))"
   ]
  },
  {
   "cell_type": "code",
   "execution_count": 10,
   "metadata": {},
   "outputs": [],
   "source": [
    "def box_plot(data, headers, title, y_labels=None):\n",
    "    fig, ax = plt.subplots()\n",
    "    fig.dpi = 100.0\n",
    "    ax.set_title(title)\n",
    "    ax.ticklabel_format(useOffset=False, style='plain')\n",
    "    ax.set_xticklabels(headers)\n",
    "    if y_labels is not None:\n",
    "        ax.set_yticklabels(y_labels)\n",
    "    ax.boxplot(data)"
   ]
  },
  {
   "cell_type": "code",
   "execution_count": 11,
   "metadata": {},
   "outputs": [],
   "source": [
    "\n",
    "\n",
    "a = train_rumour_reply_sent\n",
    "b = train_nonrumour_reply_sent\n",
    "c = dev_rumour_reply_sent\n",
    "d = dev_nonrumour_reply_sent\n",
    "\n"
   ]
  },
  {
   "cell_type": "code",
   "execution_count": 12,
   "metadata": {},
   "outputs": [
    {
     "name": "stderr",
     "output_type": "stream",
     "text": [
      "<ipython-input-10-5df693ce45d0>:6: UserWarning: FixedFormatter should only be used together with FixedLocator\n",
      "  ax.set_xticklabels(headers)\n"
     ]
    },
    {
     "data": {
      "image/png": "[encoded data removed]",
      "text/plain": [
       "<Figure size 600x400 with 1 Axes>"
      ]
     },
     "metadata": {
      "needs_background": "light"
     },
     "output_type": "display_data"
    }
   ],
   "source": [
    "\n",
    "sent_data = a, b, c, d\n",
    "\n",
    "sent_headers = ['T: Rumour', 'T: Non-Rumour', 'D: Rumour', 'D: Non-Rumour']\n",
    "sent_title = 'Tweet Reply Sentiment'\n",
    "\n",
    "box_plot(sent_data, sent_headers, sent_title)"
   ]
  },
  {
   "cell_type": "markdown",
   "metadata": {},
   "source": [
    "## Correlation between number of replies and trustworthiness?"
   ]
  },
  {
   "cell_type": "code",
   "execution_count": 13,
   "metadata": {},
   "outputs": [
    {
     "data": {
      "text/html": [
       "<div>\n",
       "<style scoped>\n",
       "    .dataframe tbody tr th:only-of-type {\n",
       "        vertical-align: middle;\n",
       "    }\n",
       "\n",
       "    .dataframe tbody tr th {\n",
       "        vertical-align: top;\n",
       "    }\n",
       "\n",
       "    .dataframe thead th {\n",
       "        text-align: right;\n",
       "    }\n",
       "</style>\n",
       "<table border=\"1\" class=\"dataframe\">\n",
       "  <thead>\n",
       "    <tr style=\"text-align: right;\">\n",
       "      <th></th>\n",
       "      <th>label</th>\n",
       "      <th>responses</th>\n",
       "    </tr>\n",
       "  </thead>\n",
       "  <tbody>\n",
       "    <tr>\n",
       "      <th>0</th>\n",
       "      <td>0</td>\n",
       "      <td>28</td>\n",
       "    </tr>\n",
       "    <tr>\n",
       "      <th>1</th>\n",
       "      <td>0</td>\n",
       "      <td>29</td>\n",
       "    </tr>\n",
       "    <tr>\n",
       "      <th>2</th>\n",
       "      <td>0</td>\n",
       "      <td>15</td>\n",
       "    </tr>\n",
       "    <tr>\n",
       "      <th>3</th>\n",
       "      <td>1</td>\n",
       "      <td>13</td>\n",
       "    </tr>\n",
       "    <tr>\n",
       "      <th>4</th>\n",
       "      <td>0</td>\n",
       "      <td>12</td>\n",
       "    </tr>\n",
       "    <tr>\n",
       "      <th>...</th>\n",
       "      <td>...</td>\n",
       "      <td>...</td>\n",
       "    </tr>\n",
       "    <tr>\n",
       "      <th>4636</th>\n",
       "      <td>1</td>\n",
       "      <td>18</td>\n",
       "    </tr>\n",
       "    <tr>\n",
       "      <th>4637</th>\n",
       "      <td>0</td>\n",
       "      <td>4</td>\n",
       "    </tr>\n",
       "    <tr>\n",
       "      <th>4638</th>\n",
       "      <td>1</td>\n",
       "      <td>0</td>\n",
       "    </tr>\n",
       "    <tr>\n",
       "      <th>4639</th>\n",
       "      <td>0</td>\n",
       "      <td>6</td>\n",
       "    </tr>\n",
       "    <tr>\n",
       "      <th>4640</th>\n",
       "      <td>0</td>\n",
       "      <td>13</td>\n",
       "    </tr>\n",
       "  </tbody>\n",
       "</table>\n",
       "<p>4641 rows × 2 columns</p>\n",
       "</div>"
      ],
      "text/plain": [
       "      label  responses\n",
       "0         0         28\n",
       "1         0         29\n",
       "2         0         15\n",
       "3         1         13\n",
       "4         0         12\n",
       "...     ...        ...\n",
       "4636      1         18\n",
       "4637      0          4\n",
       "4638      1          0\n",
       "4639      0          6\n",
       "4640      0         13\n",
       "\n",
       "[4641 rows x 2 columns]"
      ]
     },
     "execution_count": 13,
     "metadata": {},
     "output_type": "execute_result"
    }
   ],
   "source": [
    "train_df[['label', 'responses']]"
   ]
  },
  {
   "cell_type": "code",
   "execution_count": 14,
   "metadata": {},
   "outputs": [
    {
     "name": "stdout",
     "output_type": "stream",
     "text": [
      "14.469993682880606\n",
      "12.0\n",
      "17.518966644865927\n",
      "14.0\n"
     ]
    }
   ],
   "source": [
    "print(np.mean(train_df[train_df['label'] == 1]['responses'].values))\n",
    "print(np.median(train_df[train_df['label'] == 1]['responses'].values))\n",
    "print(np.mean(train_df[train_df['label'] == 0]['responses'].values))\n",
    "print(np.median(train_df[train_df['label'] == 0]['responses'].values))"
   ]
  },
  {
   "cell_type": "code",
   "execution_count": 15,
   "metadata": {},
   "outputs": [
    {
     "name": "stdout",
     "output_type": "stream",
     "text": [
      "16.647058823529413\n",
      "12.0\n",
      "17.43765903307888\n",
      "15.0\n"
     ]
    }
   ],
   "source": [
    "print(np.mean(dev_df[dev_df['label'] == 1]['responses'].values))\n",
    "print(np.median(dev_df[dev_df['label'] == 1]['responses'].values))\n",
    "print(np.mean(dev_df[dev_df['label'] == 0]['responses'].values))\n",
    "print(np.median(dev_df[dev_df['label'] == 0]['responses'].values))"
   ]
  },
  {
   "cell_type": "code",
   "execution_count": null,
   "metadata": {},
   "outputs": [],
   "source": []
  },
  {
   "cell_type": "code",
   "execution_count": null,
   "metadata": {},
   "outputs": [],
   "source": []
  }
 ],
 "metadata": {
  "kernelspec": {
   "display_name": "Python 3",
   "language": "python",
   "name": "python3"
  },
  "language_info": {
   "codemirror_mode": {
    "name": "ipython",
    "version": 3
   },
   "file_extension": ".py",
   "mimetype": "text/x-python",
   "name": "python",
   "nbconvert_exporter": "python",
   "pygments_lexer": "ipython3",
   "version": "3.8.5"
  }
 },
 "nbformat": 4,
 "nbformat_minor": 4
}
